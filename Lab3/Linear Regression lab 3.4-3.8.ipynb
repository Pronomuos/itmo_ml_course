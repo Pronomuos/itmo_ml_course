{
 "cells": [
  {
   "cell_type": "markdown",
   "metadata": {
    "id": "-7WO78Auf0qu"
   },
   "source": [
    "Это вторая часть задания.\n",
    "\n",
    "Первая часть задания (задания 3.1-3.4) находится в [ноутбуке про линейную регрессию, который разбирали на лекции](https://colab.research.google.com/drive/1eX21oBHRAzNr3PimxhMJENF3yeBC2DBe?usp=sharing)."
   ]
  },
  {
   "cell_type": "markdown",
   "metadata": {
    "id": "LYKqDli0Lqas"
   },
   "source": [
    "# Предсказание цен на недвижимость\n",
    "\n",
    "Компании по продаже недвижимости оценивают её стоимость, используя методы машинного обучения. \n",
    "Задача оценки цены на недвижимость также может быть нужна для выявления наиболее выгодных предложений, или, например, для выявления аномально низких цен на объект недвижимости."
   ]
  },
  {
   "cell_type": "markdown",
   "metadata": {
    "id": "FB3xfscxLqat"
   },
   "source": [
    "**Постановка задачи анализа данных** \n",
    "\n",
    "Целью данной задачи является прогнозирование стоимости домов в округе Кинг (штат Вашингтон, США) с помощью построения регрессионных моделей и их анализа. Набор данных состоит из цен на дома в округе Кинг, проданных в период с мая 2014 года по май 2015 года. Данные опубликованы в открытом доступе на платформе Kaggle. "
   ]
  },
  {
   "cell_type": "markdown",
   "metadata": {
    "id": "rvJWkambLqau"
   },
   "source": [
    "Данные с сайта renthub.com по стоимости квартир для аренды:"
   ]
  },
  {
   "cell_type": "markdown",
   "metadata": {
    "id": "_vD1NqACLqav"
   },
   "source": [
    "<a href=\"https://drive.google.com/uc?id=1Dr-p-o5yMi3uIS2kPcUUwT5bH0cCt1Be\n",
    "\" target=\"_blank\"><img src=\"https://drive.google.com/uc?id=1Dr-p-o5yMi3uIS2kPcUUwT5bH0cCt1Be\" \n",
    "alt=\"IMAGE ALT TEXT HERE\" width=\"360\" border=\"0\" /></a>\n"
   ]
  },
  {
   "cell_type": "markdown",
   "metadata": {
    "id": "S15gn1XfLqaw"
   },
   "source": [
    "**Обзор доступных данных**\n",
    "\n",
    "В наборе данных 21613 наблюдений и 16 признаков. \n",
    "Таким образом, про каждый из 21613 объектов недвижимости мы знаем значения 16 характеристик (число спален, оценка состояния риелтором, наличие вида на воду и т.п.)\n",
    "\n",
    "Выборка была разбита на две части для обучения и для тестирования модели. Данные на обучение и тест обычно делят случайно и равномерно: нужно чтобы и обучающая, и тестовая выборка были похожие на те данные, на которых модель будет использоваться в боевых условиях. \n",
    "\n",
    "Более сложные разбиения могут использоваться если в данных есть временная компонента - например, мы строим скоринговую модель и для теста откладываем данные за последние несколько месяцев, а всю остальную выборку используем для обучения. Такое разбиение имитирует реальную работу модели: мы можем обучаться только на данных прошлых кредитов, а работать модель уже будет на данных из будущего. \n",
    "\n",
    "Доли общей выборки для обучения и тестирования обычно 70% и 30% соотвественно. Любые разумные числа подходят, если для обучения используется достаточно много данных (обычно больше 50%), но и для тестирования что-то остается (10% и больше).\n"
   ]
  },
  {
   "cell_type": "markdown",
   "metadata": {
    "id": "iOeVms4dLqax"
   },
   "source": [
    "Данные содержат два типа переменных:\n",
    "\n",
    "* Целевая: **Целевая. Цена**\n",
    "* Остальные переменные **могут использоваться для прогноза целевой переменной.**"
   ]
  },
  {
   "cell_type": "markdown",
   "metadata": {
    "id": "OFP_i1F1Lqay"
   },
   "source": [
    "## План анализа данных (data mining):\n",
    "\n",
    "  1. Загрузить данные для обучения\n",
    "  2. Обработать данные перед обучением модели\n",
    "  3. Обучить модель на обучающей выборке\n",
    "  4. Загрузить и предобработать данные для тестирования\n",
    "  5. Провалидировать модель на тестовой выборке\n",
    "  6. Проанализировать важность признаков и не забыть про постановку задачи"
   ]
  },
  {
   "cell_type": "markdown",
   "metadata": {
    "id": "mKUYn0nHLqaz"
   },
   "source": [
    "## 1. Загрузить данные для обучения"
   ]
  },
  {
   "cell_type": "markdown",
   "metadata": {
    "id": "Bqqurd70Lqaz"
   },
   "source": [
    "**Шаг 1.1. Загружаем библиотеки** "
   ]
  },
  {
   "cell_type": "markdown",
   "metadata": {
    "id": "rY5oSQ0-Lqa0"
   },
   "source": [
    "Библиотека **warnings** отвечает за то, какие предупреждения (warnings) о работе будут выводиться пользователю. \n",
    "FutureWarning - предупреждения о том, как изменится работа библиотек в будущих версиях.\n",
    "Поэтому такие предупреждения мы будем игнорировать.\n",
    "Чтобы включить режим игнорирования мы отбираем все предупреждения из категории FutureWarning и выбираем для них действия 'ignore'.\n",
    "Это делается вызовом функции simplefilter c задание двух атрибутов: действия action и категории предупреждений category."
   ]
  },
  {
   "cell_type": "code",
   "execution_count": 1,
   "metadata": {
    "executionInfo": {
     "elapsed": 59,
     "status": "ok",
     "timestamp": 1635504000758,
     "user": {
      "displayName": "Роман Решетников",
      "photoUrl": "https://lh3.googleusercontent.com/a/default-user=s64",
      "userId": "04257737993301595317"
     },
     "user_tz": -180
    },
    "id": "SVfM6HC8Lqa1"
   },
   "outputs": [],
   "source": [
    "import warnings\n",
    "warnings.simplefilter(action='ignore', category=FutureWarning)"
   ]
  },
  {
   "cell_type": "markdown",
   "metadata": {
    "id": "28Bf-HdaLqa4"
   },
   "source": [
    "Для корректной работы с данными в python требуется загрузить специальную библиотеку\n",
    "**pandas**, программную библиотеку на языке python для обработки и анализа данных. "
   ]
  },
  {
   "cell_type": "code",
   "execution_count": 2,
   "metadata": {
    "executionInfo": {
     "elapsed": 50,
     "status": "ok",
     "timestamp": 1635504000760,
     "user": {
      "displayName": "Роман Решетников",
      "photoUrl": "https://lh3.googleusercontent.com/a/default-user=s64",
      "userId": "04257737993301595317"
     },
     "user_tz": -180
    },
    "id": "DuCW163qLqa4"
   },
   "outputs": [],
   "source": [
    "import pandas as pd # загружаем библиотеку и для простоты обращения в коде называем её сокращенно pd\n",
    "import numpy as np"
   ]
  },
  {
   "cell_type": "markdown",
   "metadata": {
    "id": "NT0TLhqxLqa7"
   },
   "source": [
    "Для корректной работы с графиками в python требуется загрузить специальную библиотеку\n",
    "**matplotlib**, программную библиотеку на языке python для визуализации данных двумерной и трехмерной графикой.\n",
    "\n",
    "Графики используются для облегчения интерпретации полученных результатов, а также в качестве иллюстраций в презентациях и отчетах. \n",
    "\n",
    "Оснвные методы для построения:\n",
    "* plot() - графики\n",
    "* semilogy() - график логарифмический\n",
    "* hist() - гистограммы"
   ]
  },
  {
   "cell_type": "code",
   "execution_count": 3,
   "metadata": {
    "executionInfo": {
     "elapsed": 42,
     "status": "ok",
     "timestamp": 1635504000762,
     "user": {
      "displayName": "Роман Решетников",
      "photoUrl": "https://lh3.googleusercontent.com/a/default-user=s64",
      "userId": "04257737993301595317"
     },
     "user_tz": -180
    },
    "id": "gHGUZu8rLqa8"
   },
   "outputs": [],
   "source": [
    "import matplotlib.pyplot as plt # загружаем библиотеку и для простоты обращения в коде называем её сокращенно plt\n",
    "# указываем, чтобы картинки отображались прямо в ноутбуке \n",
    "%matplotlib inline "
   ]
  },
  {
   "cell_type": "markdown",
   "metadata": {
    "id": "JVr8btg7Qk3x"
   },
   "source": [
    "**Шаг 1.2. Загрузим данные**"
   ]
  },
  {
   "cell_type": "markdown",
   "metadata": {
    "id": "5pzU4iRyQN9H"
   },
   "source": [
    "Для решения задачи мы будем использовать данные. Они состоят из двух частей: часть для обучения и часть для тестирования модели. Загружаем данные с помощие команды !wget. Для того, чтобы игнорировать сообщения в процессе загрузки используем магическую команду %%capture в первой строке."
   ]
  },
  {
   "cell_type": "code",
   "execution_count": 4,
   "metadata": {
    "executionInfo": {
     "elapsed": 1426,
     "status": "ok",
     "timestamp": 1635504002148,
     "user": {
      "displayName": "Роман Решетников",
      "photoUrl": "https://lh3.googleusercontent.com/a/default-user=s64",
      "userId": "04257737993301595317"
     },
     "user_tz": -180
    },
    "id": "g6rmRg3BOTxG"
   },
   "outputs": [],
   "source": [
    "%%capture\n",
    "!wget https://www.dropbox.com/s/afwb0tnqm9izxha/predict_house_price_training_data.xlsx\n",
    "!wget https://www.dropbox.com/s/sur2avqf4n5f4az/predict_house_price_test_data.xlsx"
   ]
  },
  {
   "cell_type": "markdown",
   "metadata": {
    "id": "yJpKlVRBLqa-"
   },
   "source": [
    "Так как данные в формате xlsx (Excel), мы будем использовать специальную функцию\n",
    "из библиотеки pandas для загрузки таких данных **read_excel**.\n",
    "\n",
    "В функции передаем один атрибут: название таблицы с данными."
   ]
  },
  {
   "cell_type": "code",
   "execution_count": 5,
   "metadata": {
    "executionInfo": {
     "elapsed": 3194,
     "status": "ok",
     "timestamp": 1635504005327,
     "user": {
      "displayName": "Роман Решетников",
      "photoUrl": "https://lh3.googleusercontent.com/a/default-user=s64",
      "userId": "04257737993301595317"
     },
     "user_tz": -180
    },
    "id": "jaBeMSeuLqa_"
   },
   "outputs": [],
   "source": [
    "training_data = pd.read_excel('predict_house_price_training_data.xlsx') # загружаем таблицу в переменную training_data"
   ]
  },
  {
   "cell_type": "markdown",
   "metadata": {
    "id": "jK9Xd2a5LqbB"
   },
   "source": [
    "*Что важно посмотреть после того, как мы загрузили данные?*\n",
    "- проверить, что данные действительно загрузились\n",
    "- посмотреть на данные, чтобы удостовериться, что они правильные: колонки имеют те же названия, что и в таблице и т.д.\n",
    "\n",
    "Для того чтобы это сделать, нужно вызвать от переменной *training_data* метод **head()**, который выводит первые 5 строк таблицы. \n",
    "\n",
    "Для вызова метода объекта необходимо сначала написать *имя объекта*, затем поставить *точку*, затем уже написать *название метода*. Обратите внимание, что в конце обязательно ставить скобочки, потому что метод - это функция и в ней есть аргументы, просто в данном случае мы их не передаем, поэтому оставляем поле пустым"
   ]
  },
  {
   "cell_type": "code",
   "execution_count": 6,
   "metadata": {
    "colab": {
     "base_uri": "https://localhost:8080/",
     "height": 258
    },
    "executionInfo": {
     "elapsed": 17,
     "status": "ok",
     "timestamp": 1635457633675,
     "user": {
      "displayName": "Роман Решетников",
      "photoUrl": "https://lh3.googleusercontent.com/a/default-user=s64",
      "userId": "04257737993301595317"
     },
     "user_tz": -180
    },
    "id": "q3Me_dg-LqbC",
    "outputId": "bee2bd4d-6617-4f91-d424-d2c66936f0cd"
   },
   "outputs": [
    {
     "data": {
      "text/html": [
       "<div>\n",
       "<style scoped>\n",
       "    .dataframe tbody tr th:only-of-type {\n",
       "        vertical-align: middle;\n",
       "    }\n",
       "\n",
       "    .dataframe tbody tr th {\n",
       "        vertical-align: top;\n",
       "    }\n",
       "\n",
       "    .dataframe thead th {\n",
       "        text-align: right;\n",
       "    }\n",
       "</style>\n",
       "<table border=\"1\" class=\"dataframe\">\n",
       "  <thead>\n",
       "    <tr style=\"text-align: right;\">\n",
       "      <th></th>\n",
       "      <th>Целевая.Цена</th>\n",
       "      <th>Спальни</th>\n",
       "      <th>Ванные</th>\n",
       "      <th>Жилая площадь</th>\n",
       "      <th>Общая площадь</th>\n",
       "      <th>Количество этажей</th>\n",
       "      <th>Вид на воду</th>\n",
       "      <th>Просмотрены ранее</th>\n",
       "      <th>Состояние</th>\n",
       "      <th>Оценка риелтора</th>\n",
       "      <th>Площадь без подвала</th>\n",
       "      <th>Площадь подвала</th>\n",
       "      <th>Год постройки</th>\n",
       "      <th>Год реновации</th>\n",
       "      <th>Широта</th>\n",
       "      <th>Долгота</th>\n",
       "    </tr>\n",
       "  </thead>\n",
       "  <tbody>\n",
       "    <tr>\n",
       "      <th>0</th>\n",
       "      <td>830000</td>\n",
       "      <td>5</td>\n",
       "      <td>3.50</td>\n",
       "      <td>3490</td>\n",
       "      <td>21780</td>\n",
       "      <td>2.0</td>\n",
       "      <td>0</td>\n",
       "      <td>0</td>\n",
       "      <td>3</td>\n",
       "      <td>8</td>\n",
       "      <td>3490</td>\n",
       "      <td>0</td>\n",
       "      <td>1996</td>\n",
       "      <td>0</td>\n",
       "      <td>47.6707</td>\n",
       "      <td>-122.144</td>\n",
       "    </tr>\n",
       "    <tr>\n",
       "      <th>1</th>\n",
       "      <td>385000</td>\n",
       "      <td>4</td>\n",
       "      <td>1.75</td>\n",
       "      <td>2360</td>\n",
       "      <td>7620</td>\n",
       "      <td>1.0</td>\n",
       "      <td>0</td>\n",
       "      <td>0</td>\n",
       "      <td>4</td>\n",
       "      <td>7</td>\n",
       "      <td>1180</td>\n",
       "      <td>1180</td>\n",
       "      <td>1955</td>\n",
       "      <td>0</td>\n",
       "      <td>47.5278</td>\n",
       "      <td>-122.345</td>\n",
       "    </tr>\n",
       "    <tr>\n",
       "      <th>2</th>\n",
       "      <td>610000</td>\n",
       "      <td>6</td>\n",
       "      <td>2.75</td>\n",
       "      <td>2040</td>\n",
       "      <td>8560</td>\n",
       "      <td>1.0</td>\n",
       "      <td>0</td>\n",
       "      <td>2</td>\n",
       "      <td>4</td>\n",
       "      <td>7</td>\n",
       "      <td>1100</td>\n",
       "      <td>940</td>\n",
       "      <td>1961</td>\n",
       "      <td>0</td>\n",
       "      <td>47.6160</td>\n",
       "      <td>-122.115</td>\n",
       "    </tr>\n",
       "    <tr>\n",
       "      <th>3</th>\n",
       "      <td>550000</td>\n",
       "      <td>3</td>\n",
       "      <td>1.75</td>\n",
       "      <td>1940</td>\n",
       "      <td>8376</td>\n",
       "      <td>1.0</td>\n",
       "      <td>0</td>\n",
       "      <td>0</td>\n",
       "      <td>4</td>\n",
       "      <td>8</td>\n",
       "      <td>1290</td>\n",
       "      <td>650</td>\n",
       "      <td>1963</td>\n",
       "      <td>0</td>\n",
       "      <td>47.5586</td>\n",
       "      <td>-122.173</td>\n",
       "    </tr>\n",
       "    <tr>\n",
       "      <th>4</th>\n",
       "      <td>1300000</td>\n",
       "      <td>3</td>\n",
       "      <td>2.75</td>\n",
       "      <td>3450</td>\n",
       "      <td>5350</td>\n",
       "      <td>1.5</td>\n",
       "      <td>0</td>\n",
       "      <td>3</td>\n",
       "      <td>4</td>\n",
       "      <td>9</td>\n",
       "      <td>2590</td>\n",
       "      <td>860</td>\n",
       "      <td>1925</td>\n",
       "      <td>0</td>\n",
       "      <td>47.6389</td>\n",
       "      <td>-122.407</td>\n",
       "    </tr>\n",
       "  </tbody>\n",
       "</table>\n",
       "</div>"
      ],
      "text/plain": [
       "   Целевая.Цена  Спальни  Ванные  ...  Год реновации   Широта  Долгота\n",
       "0        830000        5    3.50  ...              0  47.6707 -122.144\n",
       "1        385000        4    1.75  ...              0  47.5278 -122.345\n",
       "2        610000        6    2.75  ...              0  47.6160 -122.115\n",
       "3        550000        3    1.75  ...              0  47.5586 -122.173\n",
       "4       1300000        3    2.75  ...              0  47.6389 -122.407\n",
       "\n",
       "[5 rows x 16 columns]"
      ]
     },
     "execution_count": 6,
     "metadata": {},
     "output_type": "execute_result"
    }
   ],
   "source": [
    "training_data.head()"
   ]
  },
  {
   "cell_type": "markdown",
   "metadata": {
    "id": "wkuIAKG4LqbF"
   },
   "source": [
    "**Шаг 1.3. Посмотрим на размеры загруженной таблицы**, у которой мы видели только первые 5 строк.\n",
    "\n",
    "Для этого вызываем поле **shape** у нашей переменной *training_data*. Поле вызывается также как метод, но в конце скобки не ставятся, так как для поля не предусмотрена передача аргументов.  "
   ]
  },
  {
   "cell_type": "code",
   "execution_count": 7,
   "metadata": {
    "colab": {
     "base_uri": "https://localhost:8080/"
    },
    "executionInfo": {
     "elapsed": 16,
     "status": "ok",
     "timestamp": 1635457268473,
     "user": {
      "displayName": "Роман Решетников",
      "photoUrl": "https://lh3.googleusercontent.com/a/default-user=s64",
      "userId": "04257737993301595317"
     },
     "user_tz": -180
    },
    "id": "8uNkaQKWLqbG",
    "outputId": "1ef4f0de-4161-4834-a275-39243ef1cbdb"
   },
   "outputs": [
    {
     "data": {
      "text/plain": [
       "(15129, 16)"
      ]
     },
     "execution_count": 7,
     "metadata": {},
     "output_type": "execute_result"
    }
   ],
   "source": [
    "training_data.shape"
   ]
  },
  {
   "cell_type": "markdown",
   "metadata": {
    "id": "8oiD7YJjLqbI"
   },
   "source": [
    "*Что означает первое и второе число?*\n",
    "\n",
    "Итак, таблица содержит 15129 строк (объектов) и 16 столбцов (признаков), включая выходной (целевой) признак.\n",
    "15129 меньше 21613, так как мы пока загрузили только часть данных, которую будем использовать для обучения модели.\n",
    "\n",
    "Таблицу проверили, теперь можно приступать к обработке данных."
   ]
  },
  {
   "cell_type": "markdown",
   "metadata": {
    "id": "Mz4rsFhALqbJ"
   },
   "source": [
    "# 2. Обработать данные перед обучением модели"
   ]
  },
  {
   "cell_type": "markdown",
   "metadata": {
    "id": "0Z2QQXxSLqbK"
   },
   "source": [
    "**Шаг 2.1. Проверяем данные на наличие пропусков и типов переменных**\n",
    "\n",
    "Начнем с проверки общей информации о данных.\n",
    "Для того чтобы это сделать, нужно обратиться вызвать у переменной *training_data* метод **info()**.\n",
    "\n",
    "Напомним, что в конце необходимо поставить скобочки."
   ]
  },
  {
   "cell_type": "code",
   "execution_count": 8,
   "metadata": {
    "colab": {
     "base_uri": "https://localhost:8080/"
    },
    "executionInfo": {
     "elapsed": 302,
     "status": "ok",
     "timestamp": 1635457270929,
     "user": {
      "displayName": "Роман Решетников",
      "photoUrl": "https://lh3.googleusercontent.com/a/default-user=s64",
      "userId": "04257737993301595317"
     },
     "user_tz": -180
    },
    "id": "yBfVVIN7LqbL",
    "outputId": "c59bc45c-b60f-40ba-b038-670d50f607e7"
   },
   "outputs": [
    {
     "name": "stdout",
     "output_type": "stream",
     "text": [
      "<class 'pandas.core.frame.DataFrame'>\n",
      "RangeIndex: 15129 entries, 0 to 15128\n",
      "Data columns (total 16 columns):\n",
      " #   Column               Non-Null Count  Dtype  \n",
      "---  ------               --------------  -----  \n",
      " 0   Целевая.Цена         15129 non-null  int64  \n",
      " 1   Спальни              15129 non-null  int64  \n",
      " 2   Ванные               15129 non-null  float64\n",
      " 3   Жилая площадь        15129 non-null  int64  \n",
      " 4   Общая площадь        15129 non-null  int64  \n",
      " 5   Количество этажей    15129 non-null  float64\n",
      " 6   Вид на воду          15129 non-null  int64  \n",
      " 7   Просмотрены ранее    15129 non-null  int64  \n",
      " 8   Состояние            15129 non-null  int64  \n",
      " 9   Оценка риелтора      15129 non-null  int64  \n",
      " 10  Площадь без подвала  15129 non-null  int64  \n",
      " 11  Площадь подвала      15129 non-null  int64  \n",
      " 12  Год постройки        15129 non-null  int64  \n",
      " 13  Год реновации        15129 non-null  int64  \n",
      " 14  Широта               15129 non-null  float64\n",
      " 15  Долгота              15129 non-null  float64\n",
      "dtypes: float64(4), int64(12)\n",
      "memory usage: 1.8 MB\n"
     ]
    }
   ],
   "source": [
    "training_data.info()"
   ]
  },
  {
   "cell_type": "markdown",
   "metadata": {
    "id": "va78W9uuLqbN"
   },
   "source": [
    "Анализируем результата выполнения команды:\n",
    "\n",
    "* 15129 строк (entries)\n",
    "* 16 столбцов (Data columns)\n",
    "\n",
    "В данных присутствует всего два типа dtypes:\n",
    "* int64 - целое число  (12 столбцов)\n",
    "* float64 - дробное число (4 столбца)\n",
    "\n",
    "Цифры в каждой строчке обозначают количество заполненных (*non-null*) значений. Так как эти цифры в каждой строчке совпадают с числом строк (15129), то в данных нет пропусков и можно двигаться дальше. "
   ]
  },
  {
   "cell_type": "markdown",
   "metadata": {
    "id": "oPiLacxmLqbO"
   },
   "source": [
    "**Шаг 2.2. Работаем с целевой переменной**\n",
    "\n",
    "*Какая переменная целевая?*\n",
    "\n",
    "В данном случае по условию задачи мы должны прогнозировать стоимость, поэтому целевая переменная - это цена. "
   ]
  },
  {
   "cell_type": "code",
   "execution_count": 6,
   "metadata": {
    "executionInfo": {
     "elapsed": 461,
     "status": "ok",
     "timestamp": 1635504036727,
     "user": {
      "displayName": "Роман Решетников",
      "photoUrl": "https://lh3.googleusercontent.com/a/default-user=s64",
      "userId": "04257737993301595317"
     },
     "user_tz": -180
    },
    "id": "EsyYEJd0LqbP"
   },
   "outputs": [],
   "source": [
    "target_variable_name = 'Целевая.Цена'"
   ]
  },
  {
   "cell_type": "markdown",
   "metadata": {
    "id": "gOM9Kj8pLqbS"
   },
   "source": [
    "Нам нужно выделить в отдельную переменную *training_values* столбец из нашей таблицы, который соответствует определенной выше целевой переменной. Для этого мы у таблицы *training_data* в квадратных скобках указываем имя нужного столбца. В нашем случае это имя записано в переменной *target_variable_name*. "
   ]
  },
  {
   "cell_type": "code",
   "execution_count": 7,
   "metadata": {
    "executionInfo": {
     "elapsed": 1203,
     "status": "ok",
     "timestamp": 1635504038859,
     "user": {
      "displayName": "Роман Решетников",
      "photoUrl": "https://lh3.googleusercontent.com/a/default-user=s64",
      "userId": "04257737993301595317"
     },
     "user_tz": -180
    },
    "id": "BbEcpf4mLqbT"
   },
   "outputs": [],
   "source": [
    "training_values = training_data[target_variable_name]"
   ]
  },
  {
   "cell_type": "markdown",
   "metadata": {
    "id": "INrEpAUkLqbV"
   },
   "source": [
    "Отделим входные переменные от выходной (целевой), чтобы можно было построить модель предсказания целевой переменной по входным. \n",
    "Для это нужно у переменной *training_data* вызвать метод **drop()**. Результат мы записываем в новую переменную *training_points*. После выполнения запроса *training_points* будет содержать исходную таблицу без целевого столбца. \n",
    "\n",
    "Обратите внимание, что в данном случае мы передаем два аргумента:\n",
    "    1. target_variable_name - название столбца цены, который мы ранее записали в эту переменную и теперь хотим удалить из training_data\n",
    "    2. axis=1 - означает, что мы удаляем столбец, а в случае axis=0 - означает, что мы удаляем строку"
   ]
  },
  {
   "cell_type": "code",
   "execution_count": 8,
   "metadata": {
    "executionInfo": {
     "elapsed": 129,
     "status": "ok",
     "timestamp": 1635504043859,
     "user": {
      "displayName": "Роман Решетников",
      "photoUrl": "https://lh3.googleusercontent.com/a/default-user=s64",
      "userId": "04257737993301595317"
     },
     "user_tz": -180
    },
    "id": "DDXkAIHBLqbW"
   },
   "outputs": [],
   "source": [
    "training_points = training_data.drop(target_variable_name, axis=1)"
   ]
  },
  {
   "cell_type": "markdown",
   "metadata": {
    "id": "civG1etNLqbY"
   },
   "source": [
    "Можно посмотреть результаты этих действий, вызвав метод **head()** и поле **shape**, которыми мы пользовались ранее, но сейчас нужно вызывать их от новой переменной *training_points*."
   ]
  },
  {
   "cell_type": "code",
   "execution_count": 10,
   "metadata": {
    "colab": {
     "base_uri": "https://localhost:8080/",
     "height": 258
    },
    "executionInfo": {
     "elapsed": 9,
     "status": "ok",
     "timestamp": 1635457643317,
     "user": {
      "displayName": "Роман Решетников",
      "photoUrl": "https://lh3.googleusercontent.com/a/default-user=s64",
      "userId": "04257737993301595317"
     },
     "user_tz": -180
    },
    "id": "tiglFXjuLqbZ",
    "outputId": "38e4c08b-8924-4a54-e1e9-75e362ebe05c"
   },
   "outputs": [
    {
     "data": {
      "text/html": [
       "<div>\n",
       "<style scoped>\n",
       "    .dataframe tbody tr th:only-of-type {\n",
       "        vertical-align: middle;\n",
       "    }\n",
       "\n",
       "    .dataframe tbody tr th {\n",
       "        vertical-align: top;\n",
       "    }\n",
       "\n",
       "    .dataframe thead th {\n",
       "        text-align: right;\n",
       "    }\n",
       "</style>\n",
       "<table border=\"1\" class=\"dataframe\">\n",
       "  <thead>\n",
       "    <tr style=\"text-align: right;\">\n",
       "      <th></th>\n",
       "      <th>Спальни</th>\n",
       "      <th>Ванные</th>\n",
       "      <th>Жилая площадь</th>\n",
       "      <th>Общая площадь</th>\n",
       "      <th>Количество этажей</th>\n",
       "      <th>Вид на воду</th>\n",
       "      <th>Просмотрены ранее</th>\n",
       "      <th>Состояние</th>\n",
       "      <th>Оценка риелтора</th>\n",
       "      <th>Площадь без подвала</th>\n",
       "      <th>Площадь подвала</th>\n",
       "      <th>Год постройки</th>\n",
       "      <th>Год реновации</th>\n",
       "      <th>Широта</th>\n",
       "      <th>Долгота</th>\n",
       "    </tr>\n",
       "  </thead>\n",
       "  <tbody>\n",
       "    <tr>\n",
       "      <th>0</th>\n",
       "      <td>5</td>\n",
       "      <td>3.50</td>\n",
       "      <td>3490</td>\n",
       "      <td>21780</td>\n",
       "      <td>2.0</td>\n",
       "      <td>0</td>\n",
       "      <td>0</td>\n",
       "      <td>3</td>\n",
       "      <td>8</td>\n",
       "      <td>3490</td>\n",
       "      <td>0</td>\n",
       "      <td>1996</td>\n",
       "      <td>0</td>\n",
       "      <td>47.6707</td>\n",
       "      <td>-122.144</td>\n",
       "    </tr>\n",
       "    <tr>\n",
       "      <th>1</th>\n",
       "      <td>4</td>\n",
       "      <td>1.75</td>\n",
       "      <td>2360</td>\n",
       "      <td>7620</td>\n",
       "      <td>1.0</td>\n",
       "      <td>0</td>\n",
       "      <td>0</td>\n",
       "      <td>4</td>\n",
       "      <td>7</td>\n",
       "      <td>1180</td>\n",
       "      <td>1180</td>\n",
       "      <td>1955</td>\n",
       "      <td>0</td>\n",
       "      <td>47.5278</td>\n",
       "      <td>-122.345</td>\n",
       "    </tr>\n",
       "    <tr>\n",
       "      <th>2</th>\n",
       "      <td>6</td>\n",
       "      <td>2.75</td>\n",
       "      <td>2040</td>\n",
       "      <td>8560</td>\n",
       "      <td>1.0</td>\n",
       "      <td>0</td>\n",
       "      <td>2</td>\n",
       "      <td>4</td>\n",
       "      <td>7</td>\n",
       "      <td>1100</td>\n",
       "      <td>940</td>\n",
       "      <td>1961</td>\n",
       "      <td>0</td>\n",
       "      <td>47.6160</td>\n",
       "      <td>-122.115</td>\n",
       "    </tr>\n",
       "    <tr>\n",
       "      <th>3</th>\n",
       "      <td>3</td>\n",
       "      <td>1.75</td>\n",
       "      <td>1940</td>\n",
       "      <td>8376</td>\n",
       "      <td>1.0</td>\n",
       "      <td>0</td>\n",
       "      <td>0</td>\n",
       "      <td>4</td>\n",
       "      <td>8</td>\n",
       "      <td>1290</td>\n",
       "      <td>650</td>\n",
       "      <td>1963</td>\n",
       "      <td>0</td>\n",
       "      <td>47.5586</td>\n",
       "      <td>-122.173</td>\n",
       "    </tr>\n",
       "    <tr>\n",
       "      <th>4</th>\n",
       "      <td>3</td>\n",
       "      <td>2.75</td>\n",
       "      <td>3450</td>\n",
       "      <td>5350</td>\n",
       "      <td>1.5</td>\n",
       "      <td>0</td>\n",
       "      <td>3</td>\n",
       "      <td>4</td>\n",
       "      <td>9</td>\n",
       "      <td>2590</td>\n",
       "      <td>860</td>\n",
       "      <td>1925</td>\n",
       "      <td>0</td>\n",
       "      <td>47.6389</td>\n",
       "      <td>-122.407</td>\n",
       "    </tr>\n",
       "  </tbody>\n",
       "</table>\n",
       "</div>"
      ],
      "text/plain": [
       "   Спальни  Ванные  Жилая площадь  ...  Год реновации   Широта  Долгота\n",
       "0        5    3.50           3490  ...              0  47.6707 -122.144\n",
       "1        4    1.75           2360  ...              0  47.5278 -122.345\n",
       "2        6    2.75           2040  ...              0  47.6160 -122.115\n",
       "3        3    1.75           1940  ...              0  47.5586 -122.173\n",
       "4        3    2.75           3450  ...              0  47.6389 -122.407\n",
       "\n",
       "[5 rows x 15 columns]"
      ]
     },
     "execution_count": 10,
     "metadata": {},
     "output_type": "execute_result"
    }
   ],
   "source": [
    "training_points.head()"
   ]
  },
  {
   "cell_type": "code",
   "execution_count": 13,
   "metadata": {
    "colab": {
     "base_uri": "https://localhost:8080/"
    },
    "executionInfo": {
     "elapsed": 1285,
     "status": "ok",
     "timestamp": 1635457284294,
     "user": {
      "displayName": "Роман Решетников",
      "photoUrl": "https://lh3.googleusercontent.com/a/default-user=s64",
      "userId": "04257737993301595317"
     },
     "user_tz": -180
    },
    "id": "DAfReQdsLqbb",
    "outputId": "9d51f217-5f89-474e-bdd6-9ce22a6eba85"
   },
   "outputs": [
    {
     "data": {
      "text/plain": [
       "(15129, 15)"
      ]
     },
     "execution_count": 13,
     "metadata": {},
     "output_type": "execute_result"
    }
   ],
   "source": [
    "training_points.shape"
   ]
  },
  {
   "cell_type": "markdown",
   "metadata": {
    "id": "kx5oc0ScLqbf"
   },
   "source": [
    "Видно, что столбца действительно нет, а количество строк не изменилось. Данные в 5 первых строках такие же, как были ранее."
   ]
  },
  {
   "cell_type": "markdown",
   "metadata": {
    "id": "pJyxgxErLqbg"
   },
   "source": [
    "##   3. Обучить модель на обучающей выборке"
   ]
  },
  {
   "cell_type": "markdown",
   "metadata": {
    "id": "0FvCNInJLqbg"
   },
   "source": [
    "**Шаг 3.1. Выбираем метод, который будем использовать**\n",
    "\n",
    "Проще всего начать с простых методов. \n",
    "\n",
    "На выбор метода для построения модели влияет набор признаков, размер выборки, интуиция про то, какая связь между входными переменными и целевой. Но часто решение принимается исходя из того, какая модель сработала лучше."
   ]
  },
  {
   "cell_type": "markdown",
   "metadata": {
    "id": "m84QeANALqbi"
   },
   "source": [
    "Для корректной работы с методами построения моделей в python требуется загрузить специальную библиотеку\n",
    "**sklearn**, программную библиотеку на языке python для для машинного обучения и анализа данных.\n",
    "\n",
    "Импортируем модуль из этой библиотеки:\n",
    " * *linear_model* - тут находятся все линейные модели"
   ]
  },
  {
   "cell_type": "code",
   "execution_count": 9,
   "metadata": {
    "executionInfo": {
     "elapsed": 1225,
     "status": "ok",
     "timestamp": 1635504047876,
     "user": {
      "displayName": "Роман Решетников",
      "photoUrl": "https://lh3.googleusercontent.com/a/default-user=s64",
      "userId": "04257737993301595317"
     },
     "user_tz": -180
    },
    "id": "f1mxLNeZLqbj"
   },
   "outputs": [],
   "source": [
    "from sklearn import linear_model"
   ]
  },
  {
   "cell_type": "markdown",
   "metadata": {
    "id": "Zm15N2pvLqbq"
   },
   "source": [
    "Чтобы создать модель линейной регресии, пишем имя модуля 'linear_model', затем точку, затем название модели."
   ]
  },
  {
   "cell_type": "code",
   "execution_count": 10,
   "metadata": {
    "executionInfo": {
     "elapsed": 36,
     "status": "ok",
     "timestamp": 1635504047878,
     "user": {
      "displayName": "Роман Решетников",
      "photoUrl": "https://lh3.googleusercontent.com/a/default-user=s64",
      "userId": "04257737993301595317"
     },
     "user_tz": -180
    },
    "id": "aJdy5rsFLqbt"
   },
   "outputs": [],
   "source": [
    "linear_regression_model = linear_model.LinearRegression() # создаем модель"
   ]
  },
  {
   "cell_type": "code",
   "execution_count": 11,
   "metadata": {
    "colab": {
     "base_uri": "https://localhost:8080/"
    },
    "executionInfo": {
     "elapsed": 67,
     "status": "ok",
     "timestamp": 1635504049029,
     "user": {
      "displayName": "Роман Решетников",
      "photoUrl": "https://lh3.googleusercontent.com/a/default-user=s64",
      "userId": "04257737993301595317"
     },
     "user_tz": -180
    },
    "id": "nYk4bedkLqbw",
    "outputId": "a4300729-3461-40a9-9617-69d86378a1e3"
   },
   "outputs": [
    {
     "data": {
      "text/plain": [
       "LinearRegression(copy_X=True, fit_intercept=True, n_jobs=None, normalize=False)"
      ]
     },
     "execution_count": 11,
     "metadata": {},
     "output_type": "execute_result"
    }
   ],
   "source": [
    "linear_regression_model # смотрим, что получилось"
   ]
  },
  {
   "cell_type": "markdown",
   "metadata": {
    "id": "TM7UfC6uLqb2"
   },
   "source": [
    "**Шаг 3.2. Обучить модель**\n",
    "\n",
    "Теперь, когда мы создали прототип модели, можем её обучить на обучающей выборке. \n",
    "\n",
    "Для этого вызываем метод **fit()** и передаем ему на вход два аргумента: \n",
    "таблицу входных признаков и столбец значений целевой переменной - (training_points, training_values)"
   ]
  },
  {
   "cell_type": "code",
   "execution_count": 12,
   "metadata": {
    "colab": {
     "base_uri": "https://localhost:8080/"
    },
    "executionInfo": {
     "elapsed": 942,
     "status": "ok",
     "timestamp": 1635504053442,
     "user": {
      "displayName": "Роман Решетников",
      "photoUrl": "https://lh3.googleusercontent.com/a/default-user=s64",
      "userId": "04257737993301595317"
     },
     "user_tz": -180
    },
    "id": "zlMSe5KOLqb3",
    "outputId": "15aeda68-2095-4456-e965-2ba8237aa34f"
   },
   "outputs": [
    {
     "data": {
      "text/plain": [
       "LinearRegression(copy_X=True, fit_intercept=True, n_jobs=None, normalize=False)"
      ]
     },
     "execution_count": 12,
     "metadata": {},
     "output_type": "execute_result"
    }
   ],
   "source": [
    "linear_regression_model.fit(training_points, training_values)"
   ]
  },
  {
   "cell_type": "markdown",
   "metadata": {
    "id": "s_MADgOMhxKd"
   },
   "source": [
    "## Задание 3.5\n",
    "\n",
    "Реализуйте настройку параметров модели не с помощью встроенной функции, а с помощью своей реализации.\n",
    "\n",
    "Настроить параметры нужно с помощью **стохастического градиентного спуска**. \n",
    "В качестве дополнительного задания можно использовать регуляризацию **Elastic Net**. "
   ]
  },
  {
   "cell_type": "code",
   "execution_count": 13,
   "metadata": {
    "executionInfo": {
     "elapsed": 11,
     "status": "ok",
     "timestamp": 1635504055261,
     "user": {
      "displayName": "Роман Решетников",
      "photoUrl": "https://lh3.googleusercontent.com/a/default-user=s64",
      "userId": "04257737993301595317"
     },
     "user_tz": -180
    },
    "id": "__2_9AqbebVt"
   },
   "outputs": [],
   "source": [
    "def linear_prediction(X, w):\n",
    "  X = np.hstack((X, np.ones((len(X), 1))))\n",
    "  return np.sum(X * w, axis=1)\n",
    "\n",
    "def sgd_step_elastic_net(X, y, w, train_ind, alpha1, alpha2, eta=0.01):\n",
    "  samples_n = len(y)\n",
    "  grad = X[train_ind,:] * (np.sum(w * X[train_ind, :]) - y[train_ind] \\\n",
    "                           - alpha1 * w - alpha2 * w ** 2) / samples_n\n",
    "  return  w - 2 * eta * grad\n",
    "\n",
    "def sgd_elastic_net(X, y, alpha1=1, alpha2=0.5, eta=1e-2, max_iter=1e4, \\\n",
    "                                min_weight_dist=1e-8, seed=42):\n",
    "  X = np.hstack((X, np.ones((len(X), 1))))\n",
    "  # Инициализируем расстояние между векторами весов на соседних\n",
    "  # итерациях большим числом. \n",
    "  weight_dist = np.inf\n",
    "  # Инициализируем вектор весов\n",
    "  w = np.zeros(X.shape[1])\n",
    "  # Счетчик итераций\n",
    "  iter_num = 0\n",
    "  # Будем порождать псевдослучайные числа \n",
    "  # (номер объекта, который будет менять веса), а для воспроизводимости\n",
    "  # этой последовательности псевдослучайных чисел используем seed.\n",
    "  np.random.seed(seed)\n",
    "        \n",
    "  # Основной цикл\n",
    "  while weight_dist > min_weight_dist and iter_num < max_iter:\n",
    "    # порождаем псевдослучайный \n",
    "    # индекс объекта обучающей выборки\n",
    "    random_ind = np.random.randint(X.shape[0])\n",
    "    prv_weights = w\n",
    "    w = sgd_step_elastic_net(X, y, w, random_ind, alpha1, alpha2, eta)\n",
    "    weight_dist = np.linalg.norm(prv_weights - w, ord=2)\n",
    "    iter_num += 1\n",
    "        \n",
    "  return w    "
   ]
  },
  {
   "cell_type": "markdown",
   "metadata": {
    "id": "y8BB5t5DLqb8"
   },
   "source": [
    "## 4. Загрузить и предобработать данные для тестирования"
   ]
  },
  {
   "cell_type": "markdown",
   "metadata": {
    "id": "V70UJoRnLqb9"
   },
   "source": [
    "**Шаг 4.1. Загрузим и проанализируем тестовые данные.**\n",
    "\n",
    "Так как данные в формате xlsx (Excel), мы будем использовать специальную функцию\n",
    "из библиотеки pandas для загрузки таких данных **read_excel**.\n",
    "\n",
    "В функции передаем один атрибут: название файла, в котором находится таблица с данными."
   ]
  },
  {
   "cell_type": "code",
   "execution_count": 14,
   "metadata": {
    "executionInfo": {
     "elapsed": 1671,
     "status": "ok",
     "timestamp": 1635504061544,
     "user": {
      "displayName": "Роман Решетников",
      "photoUrl": "https://lh3.googleusercontent.com/a/default-user=s64",
      "userId": "04257737993301595317"
     },
     "user_tz": -180
    },
    "id": "G2QC-fcBLqb9"
   },
   "outputs": [],
   "source": [
    "test_data = pd.read_excel('predict_house_price_test_data.xlsx')"
   ]
  },
  {
   "cell_type": "markdown",
   "metadata": {
    "id": "D5c96FglLqcA"
   },
   "source": [
    "*Что важно посмотреть, после того, как мы загрузили данные?*\n",
    "\n",
    "- проверить, что данные действительно загрузились\n",
    "- посмотреть на данные, чтобы удостовериться, что они правильные: колонки имеют те же названия, что и в таблице и т.д.\n",
    "\n",
    "Для того чтобы это сделать, нужно вызвать от переменной *test_data* метод **head()**, который выводит первые 5 строк таблицы. \n",
    "\n",
    "Для вызова метода объекта необходимо сначала написать *имя объекта*, затем поставить *точку*, затем уже написать *название метода*. Обратите внимание, что в конце обязательно ставить скобочки, потому что метод - это функция и в ней есть аргументы, просто в данном случае мы их не передаем, поэтому оставляем поле пустым"
   ]
  },
  {
   "cell_type": "code",
   "execution_count": 23,
   "metadata": {
    "colab": {
     "base_uri": "https://localhost:8080/",
     "height": 258
    },
    "executionInfo": {
     "elapsed": 11,
     "status": "ok",
     "timestamp": 1635457115155,
     "user": {
      "displayName": "Роман Решетников",
      "photoUrl": "https://lh3.googleusercontent.com/a/default-user=s64",
      "userId": "04257737993301595317"
     },
     "user_tz": -180
    },
    "id": "aWplqmHwLqcC",
    "outputId": "425ba272-f2c6-47e8-eab8-666b784b61de"
   },
   "outputs": [
    {
     "data": {
      "text/html": [
       "<div>\n",
       "<style scoped>\n",
       "    .dataframe tbody tr th:only-of-type {\n",
       "        vertical-align: middle;\n",
       "    }\n",
       "\n",
       "    .dataframe tbody tr th {\n",
       "        vertical-align: top;\n",
       "    }\n",
       "\n",
       "    .dataframe thead th {\n",
       "        text-align: right;\n",
       "    }\n",
       "</style>\n",
       "<table border=\"1\" class=\"dataframe\">\n",
       "  <thead>\n",
       "    <tr style=\"text-align: right;\">\n",
       "      <th></th>\n",
       "      <th>Целевая.Цена</th>\n",
       "      <th>Спальни</th>\n",
       "      <th>Ванные</th>\n",
       "      <th>Жилая площадь</th>\n",
       "      <th>Общая площадь</th>\n",
       "      <th>Количество этажей</th>\n",
       "      <th>Вид на воду</th>\n",
       "      <th>Просмотрены ранее</th>\n",
       "      <th>Состояние</th>\n",
       "      <th>Оценка риелтора</th>\n",
       "      <th>Площадь без подвала</th>\n",
       "      <th>Площадь подвала</th>\n",
       "      <th>Год постройки</th>\n",
       "      <th>Год реновации</th>\n",
       "      <th>Широта</th>\n",
       "      <th>Долгота</th>\n",
       "    </tr>\n",
       "  </thead>\n",
       "  <tbody>\n",
       "    <tr>\n",
       "      <th>0</th>\n",
       "      <td>260000</td>\n",
       "      <td>3</td>\n",
       "      <td>1.00</td>\n",
       "      <td>1300</td>\n",
       "      <td>10139</td>\n",
       "      <td>1.0</td>\n",
       "      <td>0</td>\n",
       "      <td>0</td>\n",
       "      <td>3</td>\n",
       "      <td>7</td>\n",
       "      <td>1300</td>\n",
       "      <td>0</td>\n",
       "      <td>1962</td>\n",
       "      <td>2007</td>\n",
       "      <td>47.3427</td>\n",
       "      <td>-122.087</td>\n",
       "    </tr>\n",
       "    <tr>\n",
       "      <th>1</th>\n",
       "      <td>734500</td>\n",
       "      <td>4</td>\n",
       "      <td>2.75</td>\n",
       "      <td>3280</td>\n",
       "      <td>6845</td>\n",
       "      <td>2.0</td>\n",
       "      <td>0</td>\n",
       "      <td>0</td>\n",
       "      <td>3</td>\n",
       "      <td>10</td>\n",
       "      <td>3280</td>\n",
       "      <td>0</td>\n",
       "      <td>2003</td>\n",
       "      <td>0</td>\n",
       "      <td>47.7042</td>\n",
       "      <td>-122.107</td>\n",
       "    </tr>\n",
       "    <tr>\n",
       "      <th>2</th>\n",
       "      <td>325000</td>\n",
       "      <td>1</td>\n",
       "      <td>1.00</td>\n",
       "      <td>1220</td>\n",
       "      <td>12426</td>\n",
       "      <td>1.0</td>\n",
       "      <td>0</td>\n",
       "      <td>4</td>\n",
       "      <td>4</td>\n",
       "      <td>6</td>\n",
       "      <td>1220</td>\n",
       "      <td>0</td>\n",
       "      <td>1946</td>\n",
       "      <td>0</td>\n",
       "      <td>47.4047</td>\n",
       "      <td>-122.331</td>\n",
       "    </tr>\n",
       "    <tr>\n",
       "      <th>3</th>\n",
       "      <td>1990000</td>\n",
       "      <td>3</td>\n",
       "      <td>2.50</td>\n",
       "      <td>2880</td>\n",
       "      <td>13500</td>\n",
       "      <td>1.0</td>\n",
       "      <td>0</td>\n",
       "      <td>4</td>\n",
       "      <td>5</td>\n",
       "      <td>8</td>\n",
       "      <td>1520</td>\n",
       "      <td>1360</td>\n",
       "      <td>1950</td>\n",
       "      <td>0</td>\n",
       "      <td>47.6281</td>\n",
       "      <td>-122.216</td>\n",
       "    </tr>\n",
       "    <tr>\n",
       "      <th>4</th>\n",
       "      <td>315000</td>\n",
       "      <td>3</td>\n",
       "      <td>2.00</td>\n",
       "      <td>1300</td>\n",
       "      <td>3731</td>\n",
       "      <td>1.0</td>\n",
       "      <td>0</td>\n",
       "      <td>0</td>\n",
       "      <td>3</td>\n",
       "      <td>7</td>\n",
       "      <td>900</td>\n",
       "      <td>400</td>\n",
       "      <td>1993</td>\n",
       "      <td>0</td>\n",
       "      <td>47.5374</td>\n",
       "      <td>-122.270</td>\n",
       "    </tr>\n",
       "  </tbody>\n",
       "</table>\n",
       "</div>"
      ],
      "text/plain": [
       "   Целевая.Цена  Спальни  Ванные  ...  Год реновации   Широта  Долгота\n",
       "0        260000        3    1.00  ...           2007  47.3427 -122.087\n",
       "1        734500        4    2.75  ...              0  47.7042 -122.107\n",
       "2        325000        1    1.00  ...              0  47.4047 -122.331\n",
       "3       1990000        3    2.50  ...              0  47.6281 -122.216\n",
       "4        315000        3    2.00  ...              0  47.5374 -122.270\n",
       "\n",
       "[5 rows x 16 columns]"
      ]
     },
     "execution_count": 23,
     "metadata": {},
     "output_type": "execute_result"
    }
   ],
   "source": [
    "test_data.head()"
   ]
  },
  {
   "cell_type": "markdown",
   "metadata": {
    "id": "rNOKBtaVLqcF"
   },
   "source": [
    "Посмотрим на размеры загруженной таблицы, так как мы видели только 5 строк\n",
    "\n",
    "Для этого вызываем поле **shape** у нашей переменной *test_data*. Поле вызывается также как метод, но в конце скобки не ставятся (!), так как для поля не предусмотрена передача аргументов.  "
   ]
  },
  {
   "cell_type": "code",
   "execution_count": 24,
   "metadata": {
    "colab": {
     "base_uri": "https://localhost:8080/"
    },
    "executionInfo": {
     "elapsed": 1104,
     "status": "ok",
     "timestamp": 1635457119530,
     "user": {
      "displayName": "Роман Решетников",
      "photoUrl": "https://lh3.googleusercontent.com/a/default-user=s64",
      "userId": "04257737993301595317"
     },
     "user_tz": -180
    },
    "id": "FHzoBYPKLqcG",
    "outputId": "7edf4e3d-2bbb-47f4-a29f-45c7fbd8cddf"
   },
   "outputs": [
    {
     "data": {
      "text/plain": [
       "(6484, 16)"
      ]
     },
     "execution_count": 24,
     "metadata": {},
     "output_type": "execute_result"
    }
   ],
   "source": [
    "test_data.shape"
   ]
  },
  {
   "cell_type": "markdown",
   "metadata": {
    "id": "Sic-zsmxLqcI"
   },
   "source": [
    "*Что означает первое и второе число?* \n",
    "Таблица содержит 6484 строк (объектов) и 16 столбцов (признаков), включая выходной (целевой) признак. Также как в учебных данных до обучения.\n",
    "\n",
    "Таблицу проверили, теперь можно приступать к обработке данных\n",
    "Действуем аналогично тому, как делали с данными для обучения"
   ]
  },
  {
   "cell_type": "markdown",
   "metadata": {
    "id": "cirwOcb7LqcJ"
   },
   "source": [
    "Проверим, есть ли в данных пропуски. Для того чтобы это сделать, нужно обратиться вызвать у переменной *test_data* метод **info()**."
   ]
  },
  {
   "cell_type": "code",
   "execution_count": 25,
   "metadata": {
    "colab": {
     "base_uri": "https://localhost:8080/"
    },
    "executionInfo": {
     "elapsed": 408,
     "status": "ok",
     "timestamp": 1635457122449,
     "user": {
      "displayName": "Роман Решетников",
      "photoUrl": "https://lh3.googleusercontent.com/a/default-user=s64",
      "userId": "04257737993301595317"
     },
     "user_tz": -180
    },
    "id": "-TMC8NvMLqcJ",
    "outputId": "ae4c210d-a76c-4d8c-91cb-1f7d1c73a47e"
   },
   "outputs": [
    {
     "name": "stdout",
     "output_type": "stream",
     "text": [
      "<class 'pandas.core.frame.DataFrame'>\n",
      "RangeIndex: 6484 entries, 0 to 6483\n",
      "Data columns (total 16 columns):\n",
      " #   Column               Non-Null Count  Dtype  \n",
      "---  ------               --------------  -----  \n",
      " 0   Целевая.Цена         6484 non-null   int64  \n",
      " 1   Спальни              6484 non-null   int64  \n",
      " 2   Ванные               6484 non-null   float64\n",
      " 3   Жилая площадь        6484 non-null   int64  \n",
      " 4   Общая площадь        6484 non-null   int64  \n",
      " 5   Количество этажей    6484 non-null   float64\n",
      " 6   Вид на воду          6484 non-null   int64  \n",
      " 7   Просмотрены ранее    6484 non-null   int64  \n",
      " 8   Состояние            6484 non-null   int64  \n",
      " 9   Оценка риелтора      6484 non-null   int64  \n",
      " 10  Площадь без подвала  6484 non-null   int64  \n",
      " 11  Площадь подвала      6484 non-null   int64  \n",
      " 12  Год постройки        6484 non-null   int64  \n",
      " 13  Год реновации        6484 non-null   int64  \n",
      " 14  Широта               6484 non-null   float64\n",
      " 15  Долгота              6484 non-null   float64\n",
      "dtypes: float64(4), int64(12)\n",
      "memory usage: 810.6 KB\n"
     ]
    }
   ],
   "source": [
    "test_data.info()"
   ]
  },
  {
   "cell_type": "markdown",
   "metadata": {
    "id": "AN3MKGbcLqcL"
   },
   "source": [
    "Цифры в каждой строчке обозначают количество заполненных (*non-null*) значений. Так как эти цифры в каждой строчке совпадают с числом строк (6484), то в данных нет пропусков."
   ]
  },
  {
   "cell_type": "markdown",
   "metadata": {
    "id": "2cUtLvm8LqcM"
   },
   "source": [
    "**Шаг 4.2. Отделяем целевую переменную**"
   ]
  },
  {
   "cell_type": "markdown",
   "metadata": {
    "id": "s2QuCPmzLqcM"
   },
   "source": [
    "Нам нужно выделить в отдельную переменную *test_values* столбец из нашей таблицы, который соответствует определенной выше целевой переменной. Для этого мы у таблицы *test_data* в квадратных скобках указываем имя нужного столбца. В нашем случае это имя записано в переменной *target_variable_name*. "
   ]
  },
  {
   "cell_type": "code",
   "execution_count": 15,
   "metadata": {
    "executionInfo": {
     "elapsed": 303,
     "status": "ok",
     "timestamp": 1635504072056,
     "user": {
      "displayName": "Роман Решетников",
      "photoUrl": "https://lh3.googleusercontent.com/a/default-user=s64",
      "userId": "04257737993301595317"
     },
     "user_tz": -180
    },
    "id": "-mJZ2H7QLqcN"
   },
   "outputs": [],
   "source": [
    "test_values = test_data[target_variable_name]"
   ]
  },
  {
   "cell_type": "markdown",
   "metadata": {
    "id": "65B_7B2YLqcP"
   },
   "source": [
    "Отделим входные переменные от выходной (целевой), чтобы можно было построить модель предсказания целевой переменной по входным. \n",
    "Для это нужно у переменной *test_data* вызвать метод **drop()**. Результат мы записываем в новую переменную *test_points*. После выполнения запроса *test_points* будет содержать исходную таблицу без целевого столбца. \n",
    "\n",
    "Обратите внимание, что в данном случае мы передаем два аргумента:\n",
    "    1. target_variable_name - название столбца цены, который мы ранее записали в эту переменную и теперь хотим удалить из training_data\n",
    "    2. axis=1 - означает, что мы удаляем столбец, а в случае axis=0 - означает, что мы удаляем строку"
   ]
  },
  {
   "cell_type": "code",
   "execution_count": 16,
   "metadata": {
    "executionInfo": {
     "elapsed": 424,
     "status": "ok",
     "timestamp": 1635504074972,
     "user": {
      "displayName": "Роман Решетников",
      "photoUrl": "https://lh3.googleusercontent.com/a/default-user=s64",
      "userId": "04257737993301595317"
     },
     "user_tz": -180
    },
    "id": "-VIMWvPLLqcQ"
   },
   "outputs": [],
   "source": [
    "test_points = test_data.drop(target_variable_name, axis=1)"
   ]
  },
  {
   "cell_type": "markdown",
   "metadata": {
    "id": "y3Cwim1CLqcV"
   },
   "source": [
    "И проверяем результат записанный в test_points"
   ]
  },
  {
   "cell_type": "code",
   "execution_count": 22,
   "metadata": {
    "colab": {
     "base_uri": "https://localhost:8080/",
     "height": 258
    },
    "executionInfo": {
     "elapsed": 1520,
     "status": "ok",
     "timestamp": 1635457317598,
     "user": {
      "displayName": "Роман Решетников",
      "photoUrl": "https://lh3.googleusercontent.com/a/default-user=s64",
      "userId": "04257737993301595317"
     },
     "user_tz": -180
    },
    "id": "s20UtLqELqcV",
    "outputId": "6056ad75-9fad-436c-de15-0694dbbb589e"
   },
   "outputs": [
    {
     "data": {
      "text/html": [
       "<div>\n",
       "<style scoped>\n",
       "    .dataframe tbody tr th:only-of-type {\n",
       "        vertical-align: middle;\n",
       "    }\n",
       "\n",
       "    .dataframe tbody tr th {\n",
       "        vertical-align: top;\n",
       "    }\n",
       "\n",
       "    .dataframe thead th {\n",
       "        text-align: right;\n",
       "    }\n",
       "</style>\n",
       "<table border=\"1\" class=\"dataframe\">\n",
       "  <thead>\n",
       "    <tr style=\"text-align: right;\">\n",
       "      <th></th>\n",
       "      <th>Спальни</th>\n",
       "      <th>Ванные</th>\n",
       "      <th>Жилая площадь</th>\n",
       "      <th>Общая площадь</th>\n",
       "      <th>Количество этажей</th>\n",
       "      <th>Вид на воду</th>\n",
       "      <th>Просмотрены ранее</th>\n",
       "      <th>Состояние</th>\n",
       "      <th>Оценка риелтора</th>\n",
       "      <th>Площадь без подвала</th>\n",
       "      <th>Площадь подвала</th>\n",
       "      <th>Год постройки</th>\n",
       "      <th>Год реновации</th>\n",
       "      <th>Широта</th>\n",
       "      <th>Долгота</th>\n",
       "    </tr>\n",
       "  </thead>\n",
       "  <tbody>\n",
       "    <tr>\n",
       "      <th>0</th>\n",
       "      <td>3</td>\n",
       "      <td>1.00</td>\n",
       "      <td>1300</td>\n",
       "      <td>10139</td>\n",
       "      <td>1.0</td>\n",
       "      <td>0</td>\n",
       "      <td>0</td>\n",
       "      <td>3</td>\n",
       "      <td>7</td>\n",
       "      <td>1300</td>\n",
       "      <td>0</td>\n",
       "      <td>1962</td>\n",
       "      <td>2007</td>\n",
       "      <td>47.3427</td>\n",
       "      <td>-122.087</td>\n",
       "    </tr>\n",
       "    <tr>\n",
       "      <th>1</th>\n",
       "      <td>4</td>\n",
       "      <td>2.75</td>\n",
       "      <td>3280</td>\n",
       "      <td>6845</td>\n",
       "      <td>2.0</td>\n",
       "      <td>0</td>\n",
       "      <td>0</td>\n",
       "      <td>3</td>\n",
       "      <td>10</td>\n",
       "      <td>3280</td>\n",
       "      <td>0</td>\n",
       "      <td>2003</td>\n",
       "      <td>0</td>\n",
       "      <td>47.7042</td>\n",
       "      <td>-122.107</td>\n",
       "    </tr>\n",
       "    <tr>\n",
       "      <th>2</th>\n",
       "      <td>1</td>\n",
       "      <td>1.00</td>\n",
       "      <td>1220</td>\n",
       "      <td>12426</td>\n",
       "      <td>1.0</td>\n",
       "      <td>0</td>\n",
       "      <td>4</td>\n",
       "      <td>4</td>\n",
       "      <td>6</td>\n",
       "      <td>1220</td>\n",
       "      <td>0</td>\n",
       "      <td>1946</td>\n",
       "      <td>0</td>\n",
       "      <td>47.4047</td>\n",
       "      <td>-122.331</td>\n",
       "    </tr>\n",
       "    <tr>\n",
       "      <th>3</th>\n",
       "      <td>3</td>\n",
       "      <td>2.50</td>\n",
       "      <td>2880</td>\n",
       "      <td>13500</td>\n",
       "      <td>1.0</td>\n",
       "      <td>0</td>\n",
       "      <td>4</td>\n",
       "      <td>5</td>\n",
       "      <td>8</td>\n",
       "      <td>1520</td>\n",
       "      <td>1360</td>\n",
       "      <td>1950</td>\n",
       "      <td>0</td>\n",
       "      <td>47.6281</td>\n",
       "      <td>-122.216</td>\n",
       "    </tr>\n",
       "    <tr>\n",
       "      <th>4</th>\n",
       "      <td>3</td>\n",
       "      <td>2.00</td>\n",
       "      <td>1300</td>\n",
       "      <td>3731</td>\n",
       "      <td>1.0</td>\n",
       "      <td>0</td>\n",
       "      <td>0</td>\n",
       "      <td>3</td>\n",
       "      <td>7</td>\n",
       "      <td>900</td>\n",
       "      <td>400</td>\n",
       "      <td>1993</td>\n",
       "      <td>0</td>\n",
       "      <td>47.5374</td>\n",
       "      <td>-122.270</td>\n",
       "    </tr>\n",
       "  </tbody>\n",
       "</table>\n",
       "</div>"
      ],
      "text/plain": [
       "   Спальни  Ванные  Жилая площадь  ...  Год реновации   Широта  Долгота\n",
       "0        3    1.00           1300  ...           2007  47.3427 -122.087\n",
       "1        4    2.75           3280  ...              0  47.7042 -122.107\n",
       "2        1    1.00           1220  ...              0  47.4047 -122.331\n",
       "3        3    2.50           2880  ...              0  47.6281 -122.216\n",
       "4        3    2.00           1300  ...              0  47.5374 -122.270\n",
       "\n",
       "[5 rows x 15 columns]"
      ]
     },
     "execution_count": 22,
     "metadata": {},
     "output_type": "execute_result"
    }
   ],
   "source": [
    "test_points.head()"
   ]
  },
  {
   "cell_type": "code",
   "execution_count": 23,
   "metadata": {
    "colab": {
     "base_uri": "https://localhost:8080/"
    },
    "executionInfo": {
     "elapsed": 315,
     "status": "ok",
     "timestamp": 1635457320987,
     "user": {
      "displayName": "Роман Решетников",
      "photoUrl": "https://lh3.googleusercontent.com/a/default-user=s64",
      "userId": "04257737993301595317"
     },
     "user_tz": -180
    },
    "id": "ig4hw7enLqca",
    "outputId": "fbcb381d-b601-443f-d681-2aec78b7f728"
   },
   "outputs": [
    {
     "data": {
      "text/plain": [
       "(6484, 15)"
      ]
     },
     "execution_count": 23,
     "metadata": {},
     "output_type": "execute_result"
    }
   ],
   "source": [
    "test_points.shape"
   ]
  },
  {
   "cell_type": "markdown",
   "metadata": {
    "id": "xvDMV5yoLqce"
   },
   "source": [
    "Видно, что количество столбцов уменьшилось на один. Данные в 5 первых строках такие же, как были ранее."
   ]
  },
  {
   "cell_type": "markdown",
   "metadata": {
    "id": "5QFgDcQXLqcf"
   },
   "source": [
    "# 5. Провалидировать модель на тестовой выборке"
   ]
  },
  {
   "cell_type": "markdown",
   "metadata": {
    "id": "LL7Pb7IlLqcg"
   },
   "source": [
    "**Шаг 5.1. Сравнение моделей.**\n",
    "\n",
    "Теперь мы готовы сравнить качество двух моделей! 😎"
   ]
  },
  {
   "cell_type": "markdown",
   "metadata": {
    "id": "NDTfUzZdLqch"
   },
   "source": [
    "## Задание 3.6 Какая модель лучше?\n",
    "\n",
    "Получим прогнозы целевой переменной на тестовых данных для модели линейной регрессии из sklearn и для своей реализации. \n",
    "\n"
   ]
  },
  {
   "cell_type": "code",
   "execution_count": 17,
   "metadata": {
    "executionInfo": {
     "elapsed": 395,
     "status": "ok",
     "timestamp": 1635504079270,
     "user": {
      "displayName": "Роман Решетников",
      "photoUrl": "https://lh3.googleusercontent.com/a/default-user=s64",
      "userId": "04257737993301595317"
     },
     "user_tz": -180
    },
    "id": "DK3TytoFLqch"
   },
   "outputs": [],
   "source": [
    "test_predictions_linear = linear_regression_model.predict(test_points)"
   ]
  },
  {
   "cell_type": "code",
   "execution_count": 18,
   "metadata": {
    "executionInfo": {
     "elapsed": 447,
     "status": "ok",
     "timestamp": 1635504081407,
     "user": {
      "displayName": "Роман Решетников",
      "photoUrl": "https://lh3.googleusercontent.com/a/default-user=s64",
      "userId": "04257737993301595317"
     },
     "user_tz": -180
    },
    "id": "WfESQh1Limzq"
   },
   "outputs": [],
   "source": [
    "### введите свой код\n",
    "### код для получения предсказаний с помощью своей реализации алгоритма настройки параметров модели\n",
    "from sklearn.preprocessing import StandardScaler\n",
    "\n",
    "scaler = StandardScaler()\n",
    "\n",
    "training_points_norm = scaler.fit_transform(training_points)\n",
    "test_predictions_sgd = linear_prediction(test_points, sgd_elastic_net(training_points_norm, training_values, max_iter=300))"
   ]
  },
  {
   "cell_type": "markdown",
   "metadata": {
    "id": "kxRo4sq1Lqcm"
   },
   "source": [
    "Качество регрессионных моделей оценим двумя способами: \n",
    "1. Сравним визуально прогнозы с настоящими ценами (тестовые с предсказанием)\n",
    "2. Сравним метрики качества MSE и MAE"
   ]
  },
  {
   "cell_type": "markdown",
   "metadata": {
    "id": "Swg445QcLqct"
   },
   "source": [
    "Для корректного подсчета метрик качества модели в python требуется загрузить их из библиотеки **sklearn**. \n",
    "\n",
    "Мы используем две метрики качества:\n",
    " * *mean_absolute_error* - средняя абсолютная ошибка $|y_i - \\hat{y}_i|$\n",
    " * *mean_squared_error* - средняя квадратичная ошибка $(y_i - \\hat{y}_i)^2$"
   ]
  },
  {
   "cell_type": "code",
   "execution_count": 19,
   "metadata": {
    "executionInfo": {
     "elapsed": 314,
     "status": "ok",
     "timestamp": 1635504084903,
     "user": {
      "displayName": "Роман Решетников",
      "photoUrl": "https://lh3.googleusercontent.com/a/default-user=s64",
      "userId": "04257737993301595317"
     },
     "user_tz": -180
    },
    "id": "vAmGjpEzLqcu"
   },
   "outputs": [],
   "source": [
    "from sklearn.metrics import mean_absolute_error, mean_squared_error"
   ]
  },
  {
   "cell_type": "markdown",
   "metadata": {
    "id": "gmkMZN2FLqcw"
   },
   "source": [
    "Подсчитаем ошибки для линейной модели.\n",
    "\n",
    "Для этого вызовем методы **mean_absolute_error()** и **mean_squared_error()**. На вход им передается столбец настоящих значений *test_values* и столбец значений, предсказанных моделью линейной регрессии *test_predictions_linear*."
   ]
  },
  {
   "cell_type": "code",
   "execution_count": 20,
   "metadata": {
    "executionInfo": {
     "elapsed": 998,
     "status": "ok",
     "timestamp": 1635504087678,
     "user": {
      "displayName": "Роман Решетников",
      "photoUrl": "https://lh3.googleusercontent.com/a/default-user=s64",
      "userId": "04257737993301595317"
     },
     "user_tz": -180
    },
    "id": "k14DseleLqcw"
   },
   "outputs": [],
   "source": [
    "mae_linear_model = mean_absolute_error(test_values, test_predictions_linear) \n",
    "mse_linear_model = mean_squared_error(test_values, test_predictions_linear)\n",
    "\n",
    "mae_sgd = mean_absolute_error(test_values, test_predictions_sgd) \n",
    "mse_sgd = mean_squared_error(test_values, test_predictions_sgd)"
   ]
  },
  {
   "cell_type": "markdown",
   "metadata": {
    "id": "R84sQt9LLqc0"
   },
   "source": [
    "Подсчитайте ошибки для своей реализации модели."
   ]
  },
  {
   "cell_type": "markdown",
   "metadata": {
    "id": "yvsElUo7Lqc2"
   },
   "source": [
    "Теперь напечатаем полученные ошибки. Обычно смотрят на корень из среднеквадратичной ошибки, RMSE. Чтобы извлечь корень нам понадобится библиотека **Numpy**. С помощью неё можно быстро производить вычисления сразу над массивами чисел."
   ]
  },
  {
   "cell_type": "code",
   "execution_count": 21,
   "metadata": {
    "colab": {
     "base_uri": "https://localhost:8080/"
    },
    "executionInfo": {
     "elapsed": 13,
     "status": "ok",
     "timestamp": 1635504089323,
     "user": {
      "displayName": "Роман Решетников",
      "photoUrl": "https://lh3.googleusercontent.com/a/default-user=s64",
      "userId": "04257737993301595317"
     },
     "user_tz": -180
    },
    "id": "gulhl6khDhwd",
    "outputId": "5cf1eb85-e7af-411a-e599-fe03aec08ec6"
   },
   "outputs": [
    {
     "name": "stdout",
     "output_type": "stream",
     "text": [
      "Linear models MSE: 201883.24290317117\n",
      "Linear models MAE: 126852.51255005135\n",
      "SGD MSE: 279203.1030976427\n",
      "SGD MAE: 170917.9182267753\n"
     ]
    }
   ],
   "source": [
    "print('Linear models MSE:', np.sqrt(mse_linear_model))\n",
    "print('Linear models MAE:', mae_linear_model)\n",
    "print('SGD MSE:', np.sqrt(mse_sgd))\n",
    "print('SGD MAE:', mae_sgd)"
   ]
  },
  {
   "cell_type": "markdown",
   "metadata": {
    "id": "RQS6gBO1Lqc5"
   },
   "source": [
    "## 6. Выявление важных признаков"
   ]
  },
  {
   "cell_type": "markdown",
   "metadata": {
    "id": "NCvDudjKLqc6"
   },
   "source": [
    "Признаки, используемые для обучения модели, оказывают большое влияние на качество результатов. Неинформативные или слабо информативные признаки могут снизить качество модели, использование избыточных признаков в модели замедляет скорость ее работы.\n",
    "\n",
    "Для того, чтобы отобрать признаки нам следует ответить на следующие вопросы: \n",
    "\n",
    "    1. Все ли признаки в наших данных заполненны разумными значениями?\n",
    "    2. Какие признаки будут больше всего влиять на значение целевой переменной?\n",
    "    3. Какие дополнительные признаки имело бы смысл добавить в список входных?"
   ]
  },
  {
   "cell_type": "markdown",
   "metadata": {
    "id": "QlM7skwULqc7"
   },
   "source": [
    "**6.1. Разглядывание значений признаков**\n",
    "\n",
    "Для того чтобы ответить на первый вопрос, нам необходимо получить некоторую нашу экспертную оценку данных. В наших данных нет пропусков, однако иногда пропуски предварительно заполняют другими значениями (0, 999 и другие) и их можно увидеть, только внимательно посмотрев на данные. \n",
    "\n",
    "Для того, чтобы это сделать, нужно вызвать у переменной *training_points* метод **head(10)**, который выводит первые 10 строк таблицы."
   ]
  },
  {
   "cell_type": "code",
   "execution_count": 30,
   "metadata": {
    "colab": {
     "base_uri": "https://localhost:8080/",
     "height": 413
    },
    "executionInfo": {
     "elapsed": 428,
     "status": "ok",
     "timestamp": 1635449239232,
     "user": {
      "displayName": "Роман Решетников",
      "photoUrl": "https://lh3.googleusercontent.com/a/default-user=s64",
      "userId": "04257737993301595317"
     },
     "user_tz": -180
    },
    "id": "RF5s50mpLqc9",
    "outputId": "58c353fe-345d-4699-8988-70047207ab97"
   },
   "outputs": [
    {
     "data": {
      "text/html": [
       "<div>\n",
       "<style scoped>\n",
       "    .dataframe tbody tr th:only-of-type {\n",
       "        vertical-align: middle;\n",
       "    }\n",
       "\n",
       "    .dataframe tbody tr th {\n",
       "        vertical-align: top;\n",
       "    }\n",
       "\n",
       "    .dataframe thead th {\n",
       "        text-align: right;\n",
       "    }\n",
       "</style>\n",
       "<table border=\"1\" class=\"dataframe\">\n",
       "  <thead>\n",
       "    <tr style=\"text-align: right;\">\n",
       "      <th></th>\n",
       "      <th>Спальни</th>\n",
       "      <th>Ванные</th>\n",
       "      <th>Жилая площадь</th>\n",
       "      <th>Общая площадь</th>\n",
       "      <th>Количество этажей</th>\n",
       "      <th>Вид на воду</th>\n",
       "      <th>Просмотрены ранее</th>\n",
       "      <th>Состояние</th>\n",
       "      <th>Оценка риелтора</th>\n",
       "      <th>Площадь без подвала</th>\n",
       "      <th>Площадь подвала</th>\n",
       "      <th>Год постройки</th>\n",
       "      <th>Год реновации</th>\n",
       "      <th>Широта</th>\n",
       "      <th>Долгота</th>\n",
       "    </tr>\n",
       "  </thead>\n",
       "  <tbody>\n",
       "    <tr>\n",
       "      <th>0</th>\n",
       "      <td>5</td>\n",
       "      <td>3.50</td>\n",
       "      <td>3490</td>\n",
       "      <td>21780</td>\n",
       "      <td>2.0</td>\n",
       "      <td>0</td>\n",
       "      <td>0</td>\n",
       "      <td>3</td>\n",
       "      <td>8</td>\n",
       "      <td>3490</td>\n",
       "      <td>0</td>\n",
       "      <td>1996</td>\n",
       "      <td>0</td>\n",
       "      <td>47.6707</td>\n",
       "      <td>-122.144</td>\n",
       "    </tr>\n",
       "    <tr>\n",
       "      <th>1</th>\n",
       "      <td>4</td>\n",
       "      <td>1.75</td>\n",
       "      <td>2360</td>\n",
       "      <td>7620</td>\n",
       "      <td>1.0</td>\n",
       "      <td>0</td>\n",
       "      <td>0</td>\n",
       "      <td>4</td>\n",
       "      <td>7</td>\n",
       "      <td>1180</td>\n",
       "      <td>1180</td>\n",
       "      <td>1955</td>\n",
       "      <td>0</td>\n",
       "      <td>47.5278</td>\n",
       "      <td>-122.345</td>\n",
       "    </tr>\n",
       "    <tr>\n",
       "      <th>2</th>\n",
       "      <td>6</td>\n",
       "      <td>2.75</td>\n",
       "      <td>2040</td>\n",
       "      <td>8560</td>\n",
       "      <td>1.0</td>\n",
       "      <td>0</td>\n",
       "      <td>2</td>\n",
       "      <td>4</td>\n",
       "      <td>7</td>\n",
       "      <td>1100</td>\n",
       "      <td>940</td>\n",
       "      <td>1961</td>\n",
       "      <td>0</td>\n",
       "      <td>47.6160</td>\n",
       "      <td>-122.115</td>\n",
       "    </tr>\n",
       "    <tr>\n",
       "      <th>3</th>\n",
       "      <td>3</td>\n",
       "      <td>1.75</td>\n",
       "      <td>1940</td>\n",
       "      <td>8376</td>\n",
       "      <td>1.0</td>\n",
       "      <td>0</td>\n",
       "      <td>0</td>\n",
       "      <td>4</td>\n",
       "      <td>8</td>\n",
       "      <td>1290</td>\n",
       "      <td>650</td>\n",
       "      <td>1963</td>\n",
       "      <td>0</td>\n",
       "      <td>47.5586</td>\n",
       "      <td>-122.173</td>\n",
       "    </tr>\n",
       "    <tr>\n",
       "      <th>4</th>\n",
       "      <td>3</td>\n",
       "      <td>2.75</td>\n",
       "      <td>3450</td>\n",
       "      <td>5350</td>\n",
       "      <td>1.5</td>\n",
       "      <td>0</td>\n",
       "      <td>3</td>\n",
       "      <td>4</td>\n",
       "      <td>9</td>\n",
       "      <td>2590</td>\n",
       "      <td>860</td>\n",
       "      <td>1925</td>\n",
       "      <td>0</td>\n",
       "      <td>47.6389</td>\n",
       "      <td>-122.407</td>\n",
       "    </tr>\n",
       "    <tr>\n",
       "      <th>5</th>\n",
       "      <td>3</td>\n",
       "      <td>2.25</td>\n",
       "      <td>2300</td>\n",
       "      <td>9914</td>\n",
       "      <td>2.0</td>\n",
       "      <td>0</td>\n",
       "      <td>0</td>\n",
       "      <td>4</td>\n",
       "      <td>8</td>\n",
       "      <td>2300</td>\n",
       "      <td>0</td>\n",
       "      <td>1980</td>\n",
       "      <td>0</td>\n",
       "      <td>47.5677</td>\n",
       "      <td>-122.086</td>\n",
       "    </tr>\n",
       "    <tr>\n",
       "      <th>6</th>\n",
       "      <td>3</td>\n",
       "      <td>2.50</td>\n",
       "      <td>2770</td>\n",
       "      <td>8820</td>\n",
       "      <td>1.0</td>\n",
       "      <td>0</td>\n",
       "      <td>0</td>\n",
       "      <td>3</td>\n",
       "      <td>7</td>\n",
       "      <td>1900</td>\n",
       "      <td>870</td>\n",
       "      <td>1980</td>\n",
       "      <td>2004</td>\n",
       "      <td>47.3685</td>\n",
       "      <td>-122.048</td>\n",
       "    </tr>\n",
       "    <tr>\n",
       "      <th>7</th>\n",
       "      <td>2</td>\n",
       "      <td>1.75</td>\n",
       "      <td>1650</td>\n",
       "      <td>7500</td>\n",
       "      <td>1.0</td>\n",
       "      <td>0</td>\n",
       "      <td>0</td>\n",
       "      <td>4</td>\n",
       "      <td>7</td>\n",
       "      <td>1000</td>\n",
       "      <td>650</td>\n",
       "      <td>1959</td>\n",
       "      <td>0</td>\n",
       "      <td>47.6871</td>\n",
       "      <td>-122.207</td>\n",
       "    </tr>\n",
       "    <tr>\n",
       "      <th>8</th>\n",
       "      <td>1</td>\n",
       "      <td>1.00</td>\n",
       "      <td>580</td>\n",
       "      <td>1799</td>\n",
       "      <td>1.0</td>\n",
       "      <td>0</td>\n",
       "      <td>0</td>\n",
       "      <td>3</td>\n",
       "      <td>7</td>\n",
       "      <td>580</td>\n",
       "      <td>0</td>\n",
       "      <td>1908</td>\n",
       "      <td>2005</td>\n",
       "      <td>47.6829</td>\n",
       "      <td>-122.375</td>\n",
       "    </tr>\n",
       "    <tr>\n",
       "      <th>9</th>\n",
       "      <td>2</td>\n",
       "      <td>1.00</td>\n",
       "      <td>900</td>\n",
       "      <td>3400</td>\n",
       "      <td>1.0</td>\n",
       "      <td>0</td>\n",
       "      <td>0</td>\n",
       "      <td>5</td>\n",
       "      <td>6</td>\n",
       "      <td>900</td>\n",
       "      <td>0</td>\n",
       "      <td>1905</td>\n",
       "      <td>0</td>\n",
       "      <td>47.5269</td>\n",
       "      <td>-122.314</td>\n",
       "    </tr>\n",
       "  </tbody>\n",
       "</table>\n",
       "</div>"
      ],
      "text/plain": [
       "   Спальни  Ванные  Жилая площадь  ...  Год реновации   Широта  Долгота\n",
       "0        5    3.50           3490  ...              0  47.6707 -122.144\n",
       "1        4    1.75           2360  ...              0  47.5278 -122.345\n",
       "2        6    2.75           2040  ...              0  47.6160 -122.115\n",
       "3        3    1.75           1940  ...              0  47.5586 -122.173\n",
       "4        3    2.75           3450  ...              0  47.6389 -122.407\n",
       "5        3    2.25           2300  ...              0  47.5677 -122.086\n",
       "6        3    2.50           2770  ...           2004  47.3685 -122.048\n",
       "7        2    1.75           1650  ...              0  47.6871 -122.207\n",
       "8        1    1.00            580  ...           2005  47.6829 -122.375\n",
       "9        2    1.00            900  ...              0  47.5269 -122.314\n",
       "\n",
       "[10 rows x 15 columns]"
      ]
     },
     "execution_count": 30,
     "metadata": {},
     "output_type": "execute_result"
    }
   ],
   "source": [
    "training_points.head(10)"
   ]
  },
  {
   "cell_type": "markdown",
   "metadata": {
    "id": "g-MGwOMxLqdG"
   },
   "source": [
    "Рассмотрим столбец \"Год реновации\". Он содержит много нулей и мало реальных данных о годах, что как раз свидетельствует о том, что в этих данных изначально были пропуски, а к нам они попали уже заполненные нулями. \n",
    "\n",
    "Мы можем посмотреть количество уникальных значений и сколько раз эти значения встречаются в этом столбце. Для этого вызываем метод **value_counts()** у нашего столбца *training_points['Год реновации']*"
   ]
  },
  {
   "cell_type": "code",
   "execution_count": 31,
   "metadata": {
    "colab": {
     "base_uri": "https://localhost:8080/"
    },
    "executionInfo": {
     "elapsed": 340,
     "status": "ok",
     "timestamp": 1635449242436,
     "user": {
      "displayName": "Роман Решетников",
      "photoUrl": "https://lh3.googleusercontent.com/a/default-user=s64",
      "userId": "04257737993301595317"
     },
     "user_tz": -180
    },
    "id": "vZhcfLFXLqdJ",
    "outputId": "6addf4a5-0991-48fe-f392-413947f1699b",
    "scrolled": true
   },
   "outputs": [
    {
     "data": {
      "text/plain": [
       "0       14490\n",
       "2014       63\n",
       "2013       31\n",
       "2000       28\n",
       "2003       24\n",
       "        ...  \n",
       "1959        1\n",
       "1948        1\n",
       "1954        1\n",
       "1962        1\n",
       "1955        1\n",
       "Name: Год реновации, Length: 67, dtype: int64"
      ]
     },
     "execution_count": 31,
     "metadata": {},
     "output_type": "execute_result"
    }
   ],
   "source": [
    "training_points['Год реновации'].value_counts()"
   ]
  },
  {
   "cell_type": "markdown",
   "metadata": {
    "id": "DnPPjFtGLqdL"
   },
   "source": [
    "Как видно, нулей существенно больше (14490), чем любых других значений (639), поэтому можем сделать вывод, что этот признак не информативен и может негативно повлиять на качество модели."
   ]
  },
  {
   "cell_type": "markdown",
   "metadata": {
    "id": "7kYhqu9ELqdM"
   },
   "source": [
    "**6.2. Какие признаки самые важные**\n",
    "\n",
    "Ручной перебор признаков невозможен, если их тысячи, кроме того, часто даже эксперты не могут сказать, использование каких признаков в модели даст прирост качества.\n",
    "Кроме ручного перебора всех признаков и их визуального анализа, можно использовать оценку значимости признаков с помощью обученных моделей. "
   ]
  },
  {
   "cell_type": "markdown",
   "metadata": {
    "id": "xMlw49Lxj1Ne"
   },
   "source": [
    "## Задание 3.7 "
   ]
  },
  {
   "cell_type": "code",
   "execution_count": null,
   "metadata": {
    "id": "TSzXSHgfLqdN"
   },
   "outputs": [],
   "source": [
    "## введите свой код\n",
    "## напишите код, который вычисляет значимость признака (фактически это просто вес по модулю)"
   ]
  },
  {
   "cell_type": "markdown",
   "metadata": {
    "id": "zyK1fI42LqdT"
   },
   "source": [
    "Представьте полученные результаты в более удобном табличном виде. Создайте пустую таблицу *feature_importance* с двумя колонками \"Название признака\", \"Важность признака\". Для этого воспользуемся функцией **DataFrame()** из библиотеки pandas и передадим ей в качестве аргумента   \n",
    "*columns = [\"Название признака\", \"Важность признака\"]*"
   ]
  },
  {
   "cell_type": "code",
   "execution_count": 23,
   "metadata": {
    "executionInfo": {
     "elapsed": 506,
     "status": "ok",
     "timestamp": 1635484961042,
     "user": {
      "displayName": "Роман Решетников",
      "photoUrl": "https://lh3.googleusercontent.com/a/default-user=s64",
      "userId": "04257737993301595317"
     },
     "user_tz": -180
    },
    "id": "H2a9uu6YLqdT"
   },
   "outputs": [],
   "source": [
    "feature_importance = pd.DataFrame(columns = ['Название признака', 'Важность признака'])"
   ]
  },
  {
   "cell_type": "markdown",
   "metadata": {
    "id": "2L5zngrOLqdX"
   },
   "source": [
    "Заполните соответствующие колонки значениями, которые мы получили выше. "
   ]
  },
  {
   "cell_type": "code",
   "execution_count": 24,
   "metadata": {
    "executionInfo": {
     "elapsed": 721,
     "status": "ok",
     "timestamp": 1635485038144,
     "user": {
      "displayName": "Роман Решетников",
      "photoUrl": "https://lh3.googleusercontent.com/a/default-user=s64",
      "userId": "04257737993301595317"
     },
     "user_tz": -180
    },
    "id": "gb3TXJEbLqdZ"
   },
   "outputs": [],
   "source": [
    "# выведите полученную таблицу\n",
    "feature_importance['Название признака'] = test_points.columns\n",
    "feature_importance['Важность признака'] = abs(linear_regression_model.coef_)"
   ]
  },
  {
   "cell_type": "markdown",
   "metadata": {
    "id": "HCqhWnNtLqdb"
   },
   "source": [
    "Мы можем отсортировать значения по важности, вызвав у *feature_importance* метод **sort_values()**.\n",
    "\n",
    "Обратите внимание, что в данном случае мы передаем два аргумента:\n",
    "\n",
    "1. by='Важность признака' - название столбца, по которому мы сортируем\n",
    "2. ascending=False - означает, что мы сортируем по убиыванию, а в случае ascending=True сортировка будет по возростанию"
   ]
  },
  {
   "cell_type": "code",
   "execution_count": 25,
   "metadata": {
    "colab": {
     "base_uri": "https://localhost:8080/",
     "height": 514
    },
    "executionInfo": {
     "elapsed": 525,
     "status": "ok",
     "timestamp": 1635485044507,
     "user": {
      "displayName": "Роман Решетников",
      "photoUrl": "https://lh3.googleusercontent.com/a/default-user=s64",
      "userId": "04257737993301595317"
     },
     "user_tz": -180
    },
    "id": "uAOXjcAxLqdb",
    "outputId": "b854acb7-45b3-4e66-bb57-7978eef58ff1"
   },
   "outputs": [
    {
     "data": {
      "text/html": [
       "<div>\n",
       "<style scoped>\n",
       "    .dataframe tbody tr th:only-of-type {\n",
       "        vertical-align: middle;\n",
       "    }\n",
       "\n",
       "    .dataframe tbody tr th {\n",
       "        vertical-align: top;\n",
       "    }\n",
       "\n",
       "    .dataframe thead th {\n",
       "        text-align: right;\n",
       "    }\n",
       "</style>\n",
       "<table border=\"1\" class=\"dataframe\">\n",
       "  <thead>\n",
       "    <tr style=\"text-align: right;\">\n",
       "      <th></th>\n",
       "      <th>Название признака</th>\n",
       "      <th>Важность признака</th>\n",
       "    </tr>\n",
       "  </thead>\n",
       "  <tbody>\n",
       "    <tr>\n",
       "      <th>5</th>\n",
       "      <td>Вид на воду</td>\n",
       "      <td>591890.462867</td>\n",
       "    </tr>\n",
       "    <tr>\n",
       "      <th>13</th>\n",
       "      <td>Широта</td>\n",
       "      <td>570765.125799</td>\n",
       "    </tr>\n",
       "    <tr>\n",
       "      <th>14</th>\n",
       "      <td>Долгота</td>\n",
       "      <td>108281.940471</td>\n",
       "    </tr>\n",
       "    <tr>\n",
       "      <th>8</th>\n",
       "      <td>Оценка риелтора</td>\n",
       "      <td>99635.317145</td>\n",
       "    </tr>\n",
       "    <tr>\n",
       "      <th>6</th>\n",
       "      <td>Просмотрены ранее</td>\n",
       "      <td>49759.881549</td>\n",
       "    </tr>\n",
       "    <tr>\n",
       "      <th>1</th>\n",
       "      <td>Ванные</td>\n",
       "      <td>43121.015073</td>\n",
       "    </tr>\n",
       "    <tr>\n",
       "      <th>0</th>\n",
       "      <td>Спальни</td>\n",
       "      <td>33756.870035</td>\n",
       "    </tr>\n",
       "    <tr>\n",
       "      <th>7</th>\n",
       "      <td>Состояние</td>\n",
       "      <td>32162.797820</td>\n",
       "    </tr>\n",
       "    <tr>\n",
       "      <th>4</th>\n",
       "      <td>Количество этажей</td>\n",
       "      <td>6336.716142</td>\n",
       "    </tr>\n",
       "    <tr>\n",
       "      <th>11</th>\n",
       "      <td>Год постройки</td>\n",
       "      <td>2449.058277</td>\n",
       "    </tr>\n",
       "    <tr>\n",
       "      <th>2</th>\n",
       "      <td>Жилая площадь</td>\n",
       "      <td>115.347631</td>\n",
       "    </tr>\n",
       "    <tr>\n",
       "      <th>9</th>\n",
       "      <td>Площадь без подвала</td>\n",
       "      <td>79.972561</td>\n",
       "    </tr>\n",
       "    <tr>\n",
       "      <th>10</th>\n",
       "      <td>Площадь подвала</td>\n",
       "      <td>35.375070</td>\n",
       "    </tr>\n",
       "    <tr>\n",
       "      <th>12</th>\n",
       "      <td>Год реновации</td>\n",
       "      <td>24.569091</td>\n",
       "    </tr>\n",
       "    <tr>\n",
       "      <th>3</th>\n",
       "      <td>Общая площадь</td>\n",
       "      <td>0.047273</td>\n",
       "    </tr>\n",
       "  </tbody>\n",
       "</table>\n",
       "</div>"
      ],
      "text/plain": [
       "      Название признака  Важность признака\n",
       "5           Вид на воду      591890.462867\n",
       "13               Широта      570765.125799\n",
       "14              Долгота      108281.940471\n",
       "8       Оценка риелтора       99635.317145\n",
       "6     Просмотрены ранее       49759.881549\n",
       "1                Ванные       43121.015073\n",
       "0               Спальни       33756.870035\n",
       "7             Состояние       32162.797820\n",
       "4     Количество этажей        6336.716142\n",
       "11        Год постройки        2449.058277\n",
       "2         Жилая площадь         115.347631\n",
       "9   Площадь без подвала          79.972561\n",
       "10      Площадь подвала          35.375070\n",
       "12        Год реновации          24.569091\n",
       "3         Общая площадь           0.047273"
      ]
     },
     "execution_count": 25,
     "metadata": {},
     "output_type": "execute_result"
    }
   ],
   "source": [
    "feature_importance.sort_values(by='Важность признака', ascending=False)"
   ]
  },
  {
   "cell_type": "markdown",
   "metadata": {
    "id": "y1W41te9H0CG"
   },
   "source": [
    "## Задание 3.8. \n",
    "\n",
    "Напомню исходную постановку задачи. Мы говорили о том, что оценка цены на недвижимость может быть нужна для выявления аномально низких цен на объект недвижимости. Давайте попробуем найти такие в датасете."
   ]
  },
  {
   "cell_type": "code",
   "execution_count": null,
   "metadata": {
    "id": "0n5ayOELgXRv"
   },
   "outputs": [],
   "source": [
    "# from sklearn.svm import OneClassSVM\n",
    "\n",
    "# train_values = training_data['Целевая.Цена']\n",
    "# train_points = training_data.drop('Целевая.Цена', axis=1)\n",
    "\n",
    "# svm = OneClassSVM(nu=0.01)\n",
    "# predicted_anomaly = svm.fit_predict(train_points)\n",
    "# mask = pd.Series(predicted_anomaly == -1)\n",
    "# anomaly_prices = training_data[mask.values].sort_values(by='Целевая.Цена')\n",
    "# anomaly_prices"
   ]
  },
  {
   "cell_type": "code",
   "execution_count": 30,
   "metadata": {
    "colab": {
     "base_uri": "https://localhost:8080/",
     "height": 473
    },
    "executionInfo": {
     "elapsed": 312,
     "status": "ok",
     "timestamp": 1635504357077,
     "user": {
      "displayName": "Роман Решетников",
      "photoUrl": "https://lh3.googleusercontent.com/a/default-user=s64",
      "userId": "04257737993301595317"
     },
     "user_tz": -180
    },
    "id": "GlDGqlHmhc9v",
    "outputId": "18c49e56-453c-4926-cdec-9bd283c2e353"
   },
   "outputs": [
    {
     "data": {
      "text/html": [
       "<div>\n",
       "<style scoped>\n",
       "    .dataframe tbody tr th:only-of-type {\n",
       "        vertical-align: middle;\n",
       "    }\n",
       "\n",
       "    .dataframe tbody tr th {\n",
       "        vertical-align: top;\n",
       "    }\n",
       "\n",
       "    .dataframe thead th {\n",
       "        text-align: right;\n",
       "    }\n",
       "</style>\n",
       "<table border=\"1\" class=\"dataframe\">\n",
       "  <thead>\n",
       "    <tr style=\"text-align: right;\">\n",
       "      <th></th>\n",
       "      <th>Целевая.Цена</th>\n",
       "      <th>Спальни</th>\n",
       "      <th>Ванные</th>\n",
       "      <th>Жилая площадь</th>\n",
       "      <th>Общая площадь</th>\n",
       "      <th>Количество этажей</th>\n",
       "      <th>Вид на воду</th>\n",
       "      <th>Просмотрены ранее</th>\n",
       "      <th>Состояние</th>\n",
       "      <th>Оценка риелтора</th>\n",
       "      <th>Площадь без подвала</th>\n",
       "      <th>Площадь подвала</th>\n",
       "      <th>Год постройки</th>\n",
       "      <th>Год реновации</th>\n",
       "      <th>Широта</th>\n",
       "      <th>Долгота</th>\n",
       "    </tr>\n",
       "  </thead>\n",
       "  <tbody>\n",
       "    <tr>\n",
       "      <th>68</th>\n",
       "      <td>250000</td>\n",
       "      <td>3</td>\n",
       "      <td>1.50</td>\n",
       "      <td>2840</td>\n",
       "      <td>10182</td>\n",
       "      <td>1.0</td>\n",
       "      <td>0</td>\n",
       "      <td>0</td>\n",
       "      <td>3</td>\n",
       "      <td>8</td>\n",
       "      <td>1510</td>\n",
       "      <td>1330</td>\n",
       "      <td>1951</td>\n",
       "      <td>0</td>\n",
       "      <td>47.5240</td>\n",
       "      <td>-122.200</td>\n",
       "    </tr>\n",
       "    <tr>\n",
       "      <th>891</th>\n",
       "      <td>257000</td>\n",
       "      <td>5</td>\n",
       "      <td>2.75</td>\n",
       "      <td>2930</td>\n",
       "      <td>10148</td>\n",
       "      <td>2.0</td>\n",
       "      <td>0</td>\n",
       "      <td>0</td>\n",
       "      <td>3</td>\n",
       "      <td>9</td>\n",
       "      <td>2930</td>\n",
       "      <td>0</td>\n",
       "      <td>2002</td>\n",
       "      <td>0</td>\n",
       "      <td>47.4887</td>\n",
       "      <td>-122.145</td>\n",
       "    </tr>\n",
       "    <tr>\n",
       "      <th>6490</th>\n",
       "      <td>262500</td>\n",
       "      <td>3</td>\n",
       "      <td>1.75</td>\n",
       "      <td>2259</td>\n",
       "      <td>26831</td>\n",
       "      <td>1.5</td>\n",
       "      <td>0</td>\n",
       "      <td>3</td>\n",
       "      <td>5</td>\n",
       "      <td>7</td>\n",
       "      <td>1491</td>\n",
       "      <td>768</td>\n",
       "      <td>1908</td>\n",
       "      <td>0</td>\n",
       "      <td>47.2741</td>\n",
       "      <td>-122.266</td>\n",
       "    </tr>\n",
       "    <tr>\n",
       "      <th>2909</th>\n",
       "      <td>265000</td>\n",
       "      <td>4</td>\n",
       "      <td>3.00</td>\n",
       "      <td>1940</td>\n",
       "      <td>8170</td>\n",
       "      <td>1.0</td>\n",
       "      <td>0</td>\n",
       "      <td>0</td>\n",
       "      <td>4</td>\n",
       "      <td>7</td>\n",
       "      <td>1940</td>\n",
       "      <td>0</td>\n",
       "      <td>1948</td>\n",
       "      <td>0</td>\n",
       "      <td>47.7381</td>\n",
       "      <td>-122.302</td>\n",
       "    </tr>\n",
       "    <tr>\n",
       "      <th>14060</th>\n",
       "      <td>274975</td>\n",
       "      <td>3</td>\n",
       "      <td>2.50</td>\n",
       "      <td>3030</td>\n",
       "      <td>45004</td>\n",
       "      <td>2.0</td>\n",
       "      <td>0</td>\n",
       "      <td>0</td>\n",
       "      <td>3</td>\n",
       "      <td>9</td>\n",
       "      <td>3030</td>\n",
       "      <td>0</td>\n",
       "      <td>1987</td>\n",
       "      <td>0</td>\n",
       "      <td>47.7721</td>\n",
       "      <td>-122.093</td>\n",
       "    </tr>\n",
       "    <tr>\n",
       "      <th>...</th>\n",
       "      <td>...</td>\n",
       "      <td>...</td>\n",
       "      <td>...</td>\n",
       "      <td>...</td>\n",
       "      <td>...</td>\n",
       "      <td>...</td>\n",
       "      <td>...</td>\n",
       "      <td>...</td>\n",
       "      <td>...</td>\n",
       "      <td>...</td>\n",
       "      <td>...</td>\n",
       "      <td>...</td>\n",
       "      <td>...</td>\n",
       "      <td>...</td>\n",
       "      <td>...</td>\n",
       "      <td>...</td>\n",
       "    </tr>\n",
       "    <tr>\n",
       "      <th>9578</th>\n",
       "      <td>1190000</td>\n",
       "      <td>2</td>\n",
       "      <td>1.75</td>\n",
       "      <td>2080</td>\n",
       "      <td>8112</td>\n",
       "      <td>1.0</td>\n",
       "      <td>1</td>\n",
       "      <td>4</td>\n",
       "      <td>4</td>\n",
       "      <td>8</td>\n",
       "      <td>1040</td>\n",
       "      <td>1040</td>\n",
       "      <td>1939</td>\n",
       "      <td>1984</td>\n",
       "      <td>47.7134</td>\n",
       "      <td>-122.277</td>\n",
       "    </tr>\n",
       "    <tr>\n",
       "      <th>7090</th>\n",
       "      <td>1230000</td>\n",
       "      <td>4</td>\n",
       "      <td>2.50</td>\n",
       "      <td>5730</td>\n",
       "      <td>44947</td>\n",
       "      <td>2.0</td>\n",
       "      <td>0</td>\n",
       "      <td>4</td>\n",
       "      <td>3</td>\n",
       "      <td>11</td>\n",
       "      <td>4280</td>\n",
       "      <td>1450</td>\n",
       "      <td>1991</td>\n",
       "      <td>0</td>\n",
       "      <td>47.6052</td>\n",
       "      <td>-122.064</td>\n",
       "    </tr>\n",
       "    <tr>\n",
       "      <th>13731</th>\n",
       "      <td>1300000</td>\n",
       "      <td>2</td>\n",
       "      <td>2.50</td>\n",
       "      <td>2910</td>\n",
       "      <td>19449</td>\n",
       "      <td>2.0</td>\n",
       "      <td>1</td>\n",
       "      <td>4</td>\n",
       "      <td>5</td>\n",
       "      <td>9</td>\n",
       "      <td>1940</td>\n",
       "      <td>970</td>\n",
       "      <td>1985</td>\n",
       "      <td>0</td>\n",
       "      <td>47.7729</td>\n",
       "      <td>-122.393</td>\n",
       "    </tr>\n",
       "    <tr>\n",
       "      <th>9631</th>\n",
       "      <td>1610000</td>\n",
       "      <td>4</td>\n",
       "      <td>2.75</td>\n",
       "      <td>5470</td>\n",
       "      <td>18200</td>\n",
       "      <td>2.0</td>\n",
       "      <td>1</td>\n",
       "      <td>4</td>\n",
       "      <td>3</td>\n",
       "      <td>11</td>\n",
       "      <td>3730</td>\n",
       "      <td>1740</td>\n",
       "      <td>1992</td>\n",
       "      <td>0</td>\n",
       "      <td>47.5316</td>\n",
       "      <td>-122.263</td>\n",
       "    </tr>\n",
       "    <tr>\n",
       "      <th>8005</th>\n",
       "      <td>1640000</td>\n",
       "      <td>3</td>\n",
       "      <td>3.50</td>\n",
       "      <td>4660</td>\n",
       "      <td>21164</td>\n",
       "      <td>2.0</td>\n",
       "      <td>1</td>\n",
       "      <td>4</td>\n",
       "      <td>3</td>\n",
       "      <td>12</td>\n",
       "      <td>4660</td>\n",
       "      <td>0</td>\n",
       "      <td>1975</td>\n",
       "      <td>1990</td>\n",
       "      <td>47.4418</td>\n",
       "      <td>-122.354</td>\n",
       "    </tr>\n",
       "  </tbody>\n",
       "</table>\n",
       "<p>188 rows × 16 columns</p>\n",
       "</div>"
      ],
      "text/plain": [
       "       Целевая.Цена  Спальни  Ванные  ...  Год реновации   Широта  Долгота\n",
       "68           250000        3    1.50  ...              0  47.5240 -122.200\n",
       "891          257000        5    2.75  ...              0  47.4887 -122.145\n",
       "6490         262500        3    1.75  ...              0  47.2741 -122.266\n",
       "2909         265000        4    3.00  ...              0  47.7381 -122.302\n",
       "14060        274975        3    2.50  ...              0  47.7721 -122.093\n",
       "...             ...      ...     ...  ...            ...      ...      ...\n",
       "9578        1190000        2    1.75  ...           1984  47.7134 -122.277\n",
       "7090        1230000        4    2.50  ...              0  47.6052 -122.064\n",
       "13731       1300000        2    2.50  ...              0  47.7729 -122.393\n",
       "9631        1610000        4    2.75  ...              0  47.5316 -122.263\n",
       "8005        1640000        3    3.50  ...           1990  47.4418 -122.354\n",
       "\n",
       "[188 rows x 16 columns]"
      ]
     },
     "execution_count": 30,
     "metadata": {},
     "output_type": "execute_result"
    }
   ],
   "source": [
    "train_values = training_data['Целевая.Цена']\n",
    "train_points = training_data.drop('Целевая.Цена', axis=1)\n",
    "lr_model = linear_model.LinearRegression()\n",
    "lr_model.fit(train_points, train_values)\n",
    "mae_error = mean_absolute_error(lr_model.predict(train_points), train_values)\n",
    "anomal_prices = training_data[(train_values + 3 * mae_error < lr_model.predict(train_points))]\n",
    "anomal_prices.sort_values(by='Целевая.Цена')"
   ]
  }
 ],
 "metadata": {
  "colab": {
   "collapsed_sections": [],
   "name": "М33051 Решетников Роман \"Linear Regression lab 3.4-3.8\"",
   "provenance": [
    {
     "file_id": "1NJFQ-Hv-ptvecWFQHdqElt8X9HCMrDZ4",
     "timestamp": 1632984068310
    },
    {
     "file_id": "1n2aU8etmNq-MEDw4qntXszmyW_H8A4fn",
     "timestamp": 1601819478776
    },
    {
     "file_id": "13f5fqBM4UwfYNSlN875KVxhTK9m9T-Lv",
     "timestamp": 1596005590563
    },
    {
     "file_id": "1kqwKoBxu4k4IHygJbxVzPPzaLohsAB3m",
     "timestamp": 1595316081847
    }
   ]
  },
  "kernelspec": {
   "display_name": "Python 3",
   "language": "python",
   "name": "python3"
  },
  "language_info": {
   "codemirror_mode": {
    "name": "ipython",
    "version": 3
   },
   "file_extension": ".py",
   "mimetype": "text/x-python",
   "name": "python",
   "nbconvert_exporter": "python",
   "pygments_lexer": "ipython3",
   "version": "3.8.8"
  },
  "toc": {
   "base_numbering": 1,
   "nav_menu": {},
   "number_sections": true,
   "sideBar": true,
   "skip_h1_title": false,
   "title_cell": "Table of Contents",
   "title_sidebar": "Contents",
   "toc_cell": false,
   "toc_position": {},
   "toc_section_display": true,
   "toc_window_display": false
  }
 },
 "nbformat": 4,
 "nbformat_minor": 4
}
