{
 "cells": [
  {
   "cell_type": "markdown",
   "metadata": {
    "id": "tWTTy4lrZca5"
   },
   "source": [
    "# Обучение нейрона с помощью функции потерь LogLoss"
   ]
  },
  {
   "cell_type": "markdown",
   "metadata": {
    "id": "G_zlIW5BZcbB"
   },
   "source": [
    "<h3 style=\"text-align: center;\"><b>Нейрон с сигмоидой</b></h3>"
   ]
  },
  {
   "cell_type": "markdown",
   "metadata": {
    "id": "QWwW32pCZcbC"
   },
   "source": [
    "Снова рассмотрим нейрон с сигмоидой, то есть $$f(x) = \\sigma(x)=\\frac{1}{1+e^{-x}}$$ "
   ]
  },
  {
   "cell_type": "markdown",
   "metadata": {
    "id": "mj5QizQIZcbC"
   },
   "source": [
    "Ранее мы установили, что **обучение нейрона с сигмоидой с квадратичной функцией потерь**:  \n",
    "\n",
    "$$MSE(w, x) = \\frac{1}{2n}\\sum_{i=1}^{n} (\\hat{y_i} - y_i)^2 = \\frac{1}{2n}\\sum_{i=1}^{n} (\\sigma(w \\cdot x_i) - y_i)^2$$    \n",
    "\n",
    "где $w \\cdot x_i$ - скалярное произведение, а $\\sigma(w \\cdot x_i) =\\frac{1}{1+e^{-w \\cdot x_i}} $ - сигмоида -- **неэффективно**, то есть мы увидели, что даже за большое количество итераций нейрон предсказывает плохо."
   ]
  },
  {
   "cell_type": "markdown",
   "metadata": {
    "id": "MTgNbravZcbE"
   },
   "source": [
    "Давайте ещё раз взглянем на формулу для градиентного спуска от функции потерь $MSE$ по весам нейрона:"
   ]
  },
  {
   "cell_type": "markdown",
   "metadata": {
    "id": "RHXjByowZcbE"
   },
   "source": [
    "$$ \\frac{\\partial MSE}{\\partial w} = \\frac{1}{n} X^T (\\sigma(w \\cdot X) - y)\\sigma(w \\cdot X)(1 - \\sigma(w \\cdot X))$$"
   ]
  },
  {
   "cell_type": "markdown",
   "metadata": {
    "id": "ebNqrTV3ZcbF"
   },
   "source": [
    "А теперь смотрим на график сигмоиды:"
   ]
  },
  {
   "cell_type": "markdown",
   "metadata": {
    "id": "366q3EzJZcbH"
   },
   "source": [
    "<img src=\"https://cdn-images-1.medium.com/max/1200/1*IDAnCFoeXqWL7F4u9MJMtA.png\" width=500px height=350px>"
   ]
  },
  {
   "cell_type": "markdown",
   "metadata": {
    "id": "CSEF3EWVZcbJ"
   },
   "source": [
    "**Её значения: числа от 0 до 1.**"
   ]
  },
  {
   "cell_type": "markdown",
   "metadata": {
    "id": "8oOJPcKhZcbJ"
   },
   "source": [
    "Если получше проанализировать формулу, то теперь можно заметить, что, поскольку сигмоида принимает значения между 0 и 1 (а значит (1-$\\sigma$) тоже принимает значения от 0 до 1), то мы умножаем $X^T$ на столбец $(\\sigma(w \\cdot X) - y)$ из чисел от -1 до 1, а потом ещё на столбцы $\\sigma(w \\cdot X)$ и $(1 - \\sigma(w \\cdot X))$ из чисел от 0 до 1. Таким образом в лучшем случае $\\frac{\\partial{Loss}}{\\partial{w}}$ будет столбцом из чисел, порядок которых максимум 0.01 (в среднем, понятно, что если сигмоида выдаёт все 0, то будет 0, если все 1, то тоже 0). После этого мы умножаем на шаг градиентного спуска, который обычно порядка 0.001 или 0.1 максимум. То есть мы вычитаем из весов числа порядка ~0.0001. Медленновато спускаемся, не правда ли? Это называют **проблемой затухающих градиентов**."
   ]
  },
  {
   "cell_type": "markdown",
   "metadata": {
    "id": "hHmUqm5xZcbK"
   },
   "source": [
    "Чтобы избежать эту проблему в задачах классификации, в которых моделью является нейрон с сигмоидной функцией активации, предсказывающий \"вероятности\" принадлженостей к классамиспользуют **LogLoss**:  "
   ]
  },
  {
   "cell_type": "markdown",
   "metadata": {
    "id": "Dbw69trJZcbL"
   },
   "source": [
    "$$J(\\hat{y}, y) = -\\frac{1}{n} \\sum_{i=1}^n y_i \\log(\\hat{y_i}) + (1 - y_i) \\log(1 - \\hat{y_i}) = -\\frac{1}{n} \\sum_{i=1}^n y_i \\log(\\sigma(w \\cdot x_i)) + (1 - y_i) \\log(1 - \\sigma(w \\cdot x_i))$$"
   ]
  },
  {
   "cell_type": "markdown",
   "metadata": {
    "id": "jXcBIx73ZcbM"
   },
   "source": [
    "где, как и прежде, $y$ - столбец $(n, 1)$ из истинных значений классов, а $\\hat{y}$ - столбец $(n, 1)$ из предсказаний нейрона."
   ]
  },
  {
   "cell_type": "code",
   "execution_count": 1,
   "metadata": {
    "executionInfo": {
     "elapsed": 15,
     "status": "ok",
     "timestamp": 1640324656511,
     "user": {
      "displayName": "Роман Решетников",
      "photoUrl": "https://lh3.googleusercontent.com/a/default-user=s64",
      "userId": "04257737993301595317"
     },
     "user_tz": -180
    },
    "id": "5DBEOhJmZcbN"
   },
   "outputs": [],
   "source": [
    "from matplotlib import pyplot as plt\n",
    "from matplotlib.colors import ListedColormap\n",
    "import numpy as np\n",
    "import pandas as pd"
   ]
  },
  {
   "cell_type": "code",
   "execution_count": 2,
   "metadata": {
    "executionInfo": {
     "elapsed": 9,
     "status": "ok",
     "timestamp": 1640324656512,
     "user": {
      "displayName": "Роман Решетников",
      "photoUrl": "https://lh3.googleusercontent.com/a/default-user=s64",
      "userId": "04257737993301595317"
     },
     "user_tz": -180
    },
    "id": "_x5CX0RyZcbQ"
   },
   "outputs": [],
   "source": [
    "def loss(y_pred, y):\n",
    "    return -np.mean(y * np.log(y_pred) + (1 - y) * np.log(1 - y_pred))"
   ]
  },
  {
   "cell_type": "markdown",
   "metadata": {
    "id": "raPTihU6ZcbT"
   },
   "source": [
    "Отметим, что сейчас речь идёт именно о **бинарной классификации (на два класса)**, в многоклассовой классификации используется функция потерь под названием *кросс-энтропия*, которая является обобщением LogLoss'а на случай нескольких классов."
   ]
  },
  {
   "cell_type": "markdown",
   "metadata": {
    "id": "B0Ky5xUfvOzh"
   },
   "source": [
    "Почему же теперь всё будет лучше? Раньше была проблема умножения маленьких чисел в градиенте. Давайте посмотрим, что теперь:"
   ]
  },
  {
   "cell_type": "markdown",
   "metadata": {
    "id": "qxs0zXfPvOzh"
   },
   "source": [
    "* Для веса $w_j$:"
   ]
  },
  {
   "cell_type": "markdown",
   "metadata": {
    "id": "hH6AujkCvOzj"
   },
   "source": [
    "$$ \\frac{\\partial Loss}{\\partial w_j} = \n",
    "-\\frac{1}{n} \\sum_{i=1}^n \\left(\\frac{y_i}{\\sigma(w \\cdot x_i)} - \\frac{1 - y_i}{1 - \\sigma(w \\cdot x_i)}\\right)(\\sigma(w \\cdot x_i))_{w_j}' = -\\frac{1}{n} \\sum_{i=1}^n \\left(\\frac{y_i}{\\sigma(w \\cdot x_i)} - \\frac{1 - y_i}{1 - \\sigma(w \\cdot x_i)}\\right)\\sigma(w \\cdot x_i)(1 - \\sigma(w \\cdot x_i))x_{ij} = $$\n",
    "$$-\\frac{1}{n} \\sum_{i=1}^n \\left(y_i - \\sigma(w \\cdot x_i)\\right)x_{ij}$$"
   ]
  },
  {
   "cell_type": "markdown",
   "metadata": {
    "id": "dYOygL-zvOzk"
   },
   "source": [
    "* Градиент $Loss$'а по вектору весов -- это вектор, $j$-ая компонента которого равна $\\frac{\\partial Loss}{\\partial w_j}$ (помним, что весов всего $m$):"
   ]
  },
  {
   "cell_type": "markdown",
   "metadata": {
    "id": "ItJoyReVvOzl"
   },
   "source": [
    "$$\\begin{align}\n",
    "    \\frac{\\partial Loss}{\\partial w} &= \\begin{bmatrix}\n",
    "           -\\frac{1}{n} \\sum_{i=1}^n \\left(y_i - \\sigma(w \\cdot x_i)\\right)x_{i1} \\\\\n",
    "           -\\frac{1}{n} \\sum_{i=1}^n \\left(y_i - \\sigma(w \\cdot x_i)\\right)x_{i2} \\\\\n",
    "           \\vdots \\\\\n",
    "           -\\frac{1}{n} \\sum_{i=1}^n \\left(y_i - \\sigma(w \\cdot x_i)\\right)x_{im}\n",
    "         \\end{bmatrix}\n",
    "\\end{align}=\\frac{1}{n} X^T \\left(\\hat{y} - y\\right)$$"
   ]
  },
  {
   "cell_type": "markdown",
   "metadata": {
    "id": "r2xKo6NzvOzm"
   },
   "source": [
    "По аналогии с $w_j$ выведите формулу для свободного члена (bias'а) $b$ (*hint*: можно считать, что при нём есть признак $x_{i0}=1$ на всех $i$)."
   ]
  },
  {
   "cell_type": "markdown",
   "metadata": {
    "id": "7HQALb8XZcbU"
   },
   "source": [
    "Получили новое правило для обновления $w$ и $b$. "
   ]
  },
  {
   "cell_type": "code",
   "execution_count": 3,
   "metadata": {
    "executionInfo": {
     "elapsed": 8,
     "status": "ok",
     "timestamp": 1640324656513,
     "user": {
      "displayName": "Роман Решетников",
      "photoUrl": "https://lh3.googleusercontent.com/a/default-user=s64",
      "userId": "04257737993301595317"
     },
     "user_tz": -180
    },
    "id": "xL2gqg27ZcbW"
   },
   "outputs": [],
   "source": [
    "def sigmoid(x):\n",
    "    \"\"\"Сигмоидальная функция\"\"\"\n",
    "    return 1 / (1 + np.exp(-x))"
   ]
  },
  {
   "cell_type": "markdown",
   "metadata": {
    "id": "ukZ-iJNRZcbY"
   },
   "source": [
    "Реализуйте нейрон с функцией потерь LogLoss:"
   ]
  },
  {
   "cell_type": "code",
   "execution_count": 4,
   "metadata": {
    "executionInfo": {
     "elapsed": 284,
     "status": "ok",
     "timestamp": 1640324658532,
     "user": {
      "displayName": "Роман Решетников",
      "photoUrl": "https://lh3.googleusercontent.com/a/default-user=s64",
      "userId": "04257737993301595317"
     },
     "user_tz": -180
    },
    "id": "TdnkoJDfZcba"
   },
   "outputs": [],
   "source": [
    "class Neuron:\n",
    "    \n",
    "    def __init__(self, w=None, b=0):\n",
    "        \"\"\"\n",
    "        :param: w -- вектор весов\n",
    "        :param: b -- смещение\n",
    "        \"\"\"\n",
    "        # пока что мы не знаем размер матрицы X, а значит не знаем, сколько будет весов\n",
    "        self.w = w\n",
    "        self.b = b\n",
    "        \n",
    "        \n",
    "    def activate(self, x):\n",
    "        return sigmoid(x)\n",
    "    \n",
    "        \n",
    "    def forward_pass(self, X):\n",
    "        \"\"\"\n",
    "        Эта функция рассчитывает ответ нейрона при предъявлении набора объектов\n",
    "        :param: X -- матрица объектов размера (n, m), каждая строка - отдельный объект\n",
    "        :return: вектор размера (n, 1) из нулей и единиц с ответами перцептрона \n",
    "        \"\"\"\n",
    "        y_pred = np.zeros((X.shape[0], 1))\n",
    "        y_pred = self.activate(X @ self.w.reshape(X.shape[1], 1) + self.b)\n",
    "        return y_pred.reshape(-1, 1)\n",
    "        \n",
    "    \n",
    "    def backward_pass(self, X, y, y_pred, learning_rate=0.1):\n",
    "        \"\"\"\n",
    "        Обновляет значения весов нейрона в соответствие с этим объектом\n",
    "        :param: X -- матрица объектов размера (n, m)\n",
    "                y -- вектор правильных ответов размера (n, 1)\n",
    "                learning_rate - \"скорость обучения\" (символ alpha в формулах выше)\n",
    "        В этом методе ничего возвращать не нужно, только правильно поменять веса\n",
    "        с помощью градиентного спуска.\n",
    "        \"\"\"\n",
    "        n = len(y)\n",
    "        y = np.array(y).reshape(-1, 1)\n",
    "        sigma = self.activate(X @ self.w + self.b)\n",
    "        self.w = self.w - learning_rate * (X.T @ (sigma - y)) / n\n",
    "        self.b = self.b - learning_rate * np.mean(sigma - y)\n",
    "        \n",
    "    \n",
    "    def fit(self, X, y, num_epochs=5000):\n",
    "        \"\"\"\n",
    "        Спускаемся в минимум\n",
    "        :param: X -- матрица объектов размера (n, m)\n",
    "                y -- вектор правильных ответов размера (n, 1)\n",
    "                num_epochs -- количество итераций обучения\n",
    "        :return: J_values -- вектор значений функции потерь\n",
    "        \"\"\"\n",
    "        self.w = np.zeros((X.shape[1], 1))  # столбец (m, 1)\n",
    "        self.b = 0  # смещение\n",
    "        loss_values = []  # значения функции потерь на различных итерациях обновления весов\n",
    "        \n",
    "        for i in range(num_epochs):\n",
    "            # предсказания с текущими весами\n",
    "            y_pred = self.forward_pass(X)\n",
    "            # считаем функцию потерь с текущими весами\n",
    "            loss_values.append(loss(y_pred, y))\n",
    "            # обновляем веса по формуле градиентного спуска\n",
    "            self.backward_pass(X, y, y_pred)\n",
    "\n",
    "        return loss_values"
   ]
  },
  {
   "cell_type": "markdown",
   "metadata": {
    "id": "-RQRPI50Zcbb"
   },
   "source": [
    "<h3 style=\"text-align: center;\"><b>Тестирование</b></h3>"
   ]
  },
  {
   "cell_type": "markdown",
   "metadata": {
    "id": "FBwpsQc0Zcbc"
   },
   "source": [
    "Протестируем нейрон, обученный с новой функцией потерь, на тех же данных, что и в предыдущем ноутбуке:"
   ]
  },
  {
   "cell_type": "markdown",
   "metadata": {
    "id": "JVCPAAuXZcbd"
   },
   "source": [
    "**Проверка forward_pass()**"
   ]
  },
  {
   "cell_type": "code",
   "execution_count": 5,
   "metadata": {
    "colab": {
     "base_uri": "https://localhost:8080/"
    },
    "executionInfo": {
     "elapsed": 259,
     "status": "ok",
     "timestamp": 1640325324358,
     "user": {
      "displayName": "Роман Решетников",
      "photoUrl": "https://lh3.googleusercontent.com/a/default-user=s64",
      "userId": "04257737993301595317"
     },
     "user_tz": -180
    },
    "id": "hbuAzv_YZcbe",
    "outputId": "38f89c2d-e622-4cc4-9bf2-6c738f78186d"
   },
   "outputs": [
    {
     "name": "stdout",
     "output_type": "stream",
     "text": [
      "y_pred = [[0.99987661]\n",
      " [0.99999386]\n",
      " [0.00449627]]\n"
     ]
    }
   ],
   "source": [
    "w = np.array([1., 2.]).reshape(2, 1)\n",
    "b = 2.\n",
    "X = np.array([[1., 3.],\n",
    "              [2., 4.],\n",
    "              [-1., -3.2]])\n",
    "\n",
    "neuron = Neuron(w, b)\n",
    "y_pred = neuron.forward_pass(X)\n",
    "print (\"y_pred = \" + str(y_pred))"
   ]
  },
  {
   "cell_type": "markdown",
   "metadata": {
    "id": "eL6viEHNZcbi"
   },
   "source": [
    "**Проверка backward_pass()**"
   ]
  },
  {
   "cell_type": "code",
   "execution_count": 6,
   "metadata": {
    "executionInfo": {
     "elapsed": 241,
     "status": "ok",
     "timestamp": 1640325327862,
     "user": {
      "displayName": "Роман Решетников",
      "photoUrl": "https://lh3.googleusercontent.com/a/default-user=s64",
      "userId": "04257737993301595317"
     },
     "user_tz": -180
    },
    "id": "_4F8zActZcbk"
   },
   "outputs": [],
   "source": [
    "y = np.array([1, 0, 1]).reshape(3, 1)"
   ]
  },
  {
   "cell_type": "code",
   "execution_count": 7,
   "metadata": {
    "colab": {
     "base_uri": "https://localhost:8080/"
    },
    "executionInfo": {
     "elapsed": 267,
     "status": "ok",
     "timestamp": 1640325329304,
     "user": {
      "displayName": "Роман Решетников",
      "photoUrl": "https://lh3.googleusercontent.com/a/default-user=s64",
      "userId": "04257737993301595317"
     },
     "user_tz": -180
    },
    "id": "ILDcoLqwZcbm",
    "outputId": "7cb9ff2f-92a4-4bb0-c725-3b5481eded6f"
   },
   "outputs": [
    {
     "name": "stdout",
     "output_type": "stream",
     "text": [
      "w = [[0.9001544 ]\n",
      " [1.76049276]]\n",
      "b = 1.9998544421863216\n"
     ]
    }
   ],
   "source": [
    "neuron.backward_pass(X, y, y_pred)\n",
    "\n",
    "print (\"w = \" + str(neuron.w))\n",
    "print (\"b = \" + str(neuron.b))"
   ]
  },
  {
   "cell_type": "markdown",
   "metadata": {
    "id": "_1ZRdKcfZcbq"
   },
   "source": [
    "Проверьте на наборах данных \"яблоки и груши\" и \"голос\"."
   ]
  },
  {
   "cell_type": "code",
   "execution_count": 8,
   "metadata": {
    "executionInfo": {
     "elapsed": 826,
     "status": "ok",
     "timestamp": 1640325332609,
     "user": {
      "displayName": "Роман Решетников",
      "photoUrl": "https://lh3.googleusercontent.com/a/default-user=s64",
      "userId": "04257737993301595317"
     },
     "user_tz": -180
    },
    "id": "T02YAelGmT8b"
   },
   "outputs": [],
   "source": [
    "from sklearn.model_selection import train_test_split\n",
    "from sklearn import preprocessing\n",
    "from sklearn.preprocessing import MinMaxScaler\n",
    "from sklearn.metrics import f1_score\n",
    "\n",
    "import numpy as np"
   ]
  },
  {
   "cell_type": "code",
   "execution_count": 9,
   "metadata": {
    "colab": {
     "base_uri": "https://localhost:8080/"
    },
    "executionInfo": {
     "elapsed": 16447,
     "status": "ok",
     "timestamp": 1640325351050,
     "user": {
      "displayName": "Роман Решетников",
      "photoUrl": "https://lh3.googleusercontent.com/a/default-user=s64",
      "userId": "04257737993301595317"
     },
     "user_tz": -180
    },
    "id": "k1cBuG8Rwdyw",
    "outputId": "37883773-b1c0-48ec-a800-89670e3246f8"
   },
   "outputs": [
    {
     "name": "stdout",
     "output_type": "stream",
     "text": [
      "Mounted at /content/drive/\n"
     ]
    }
   ],
   "source": [
    "from google.colab import drive\n",
    "drive.mount('/content/drive/')"
   ]
  },
  {
   "cell_type": "markdown",
   "metadata": {
    "id": "pDmAQ3UuCDDn"
   },
   "source": [
    "**Apple-pears**"
   ]
  },
  {
   "cell_type": "code",
   "execution_count": 45,
   "metadata": {
    "colab": {
     "base_uri": "https://localhost:8080/",
     "height": 204
    },
    "executionInfo": {
     "elapsed": 257,
     "status": "ok",
     "timestamp": 1640326968080,
     "user": {
      "displayName": "Роман Решетников",
      "photoUrl": "https://lh3.googleusercontent.com/a/default-user=s64",
      "userId": "04257737993301595317"
     },
     "user_tz": -180
    },
    "id": "03PQcakpoQF0",
    "outputId": "c14c0beb-af45-45a9-ed71-3d58adda9716"
   },
   "outputs": [
    {
     "data": {
      "text/html": [
       "\n",
       "  <div id=\"df-1f8ca3e4-d220-4abb-8ccf-44c440890745\">\n",
       "    <div class=\"colab-df-container\">\n",
       "      <div>\n",
       "<style scoped>\n",
       "    .dataframe tbody tr th:only-of-type {\n",
       "        vertical-align: middle;\n",
       "    }\n",
       "\n",
       "    .dataframe tbody tr th {\n",
       "        vertical-align: top;\n",
       "    }\n",
       "\n",
       "    .dataframe thead th {\n",
       "        text-align: right;\n",
       "    }\n",
       "</style>\n",
       "<table border=\"1\" class=\"dataframe\">\n",
       "  <thead>\n",
       "    <tr style=\"text-align: right;\">\n",
       "      <th></th>\n",
       "      <th>yellowness</th>\n",
       "      <th>symmetry</th>\n",
       "      <th>target</th>\n",
       "    </tr>\n",
       "  </thead>\n",
       "  <tbody>\n",
       "    <tr>\n",
       "      <th>0</th>\n",
       "      <td>0.779427</td>\n",
       "      <td>0.257305</td>\n",
       "      <td>1.0</td>\n",
       "    </tr>\n",
       "    <tr>\n",
       "      <th>1</th>\n",
       "      <td>0.777005</td>\n",
       "      <td>0.015915</td>\n",
       "      <td>1.0</td>\n",
       "    </tr>\n",
       "    <tr>\n",
       "      <th>2</th>\n",
       "      <td>0.977092</td>\n",
       "      <td>0.304210</td>\n",
       "      <td>1.0</td>\n",
       "    </tr>\n",
       "    <tr>\n",
       "      <th>3</th>\n",
       "      <td>0.043032</td>\n",
       "      <td>0.140899</td>\n",
       "      <td>0.0</td>\n",
       "    </tr>\n",
       "    <tr>\n",
       "      <th>4</th>\n",
       "      <td>0.760433</td>\n",
       "      <td>0.193123</td>\n",
       "      <td>1.0</td>\n",
       "    </tr>\n",
       "  </tbody>\n",
       "</table>\n",
       "</div>\n",
       "      <button class=\"colab-df-convert\" onclick=\"convertToInteractive('df-1f8ca3e4-d220-4abb-8ccf-44c440890745')\"\n",
       "              title=\"Convert this dataframe to an interactive table.\"\n",
       "              style=\"display:none;\">\n",
       "        \n",
       "  <svg xmlns=\"http://www.w3.org/2000/svg\" height=\"24px\"viewBox=\"0 0 24 24\"\n",
       "       width=\"24px\">\n",
       "    <path d=\"M0 0h24v24H0V0z\" fill=\"none\"/>\n",
       "    <path d=\"M18.56 5.44l.94 2.06.94-2.06 2.06-.94-2.06-.94-.94-2.06-.94 2.06-2.06.94zm-11 1L8.5 8.5l.94-2.06 2.06-.94-2.06-.94L8.5 2.5l-.94 2.06-2.06.94zm10 10l.94 2.06.94-2.06 2.06-.94-2.06-.94-.94-2.06-.94 2.06-2.06.94z\"/><path d=\"M17.41 7.96l-1.37-1.37c-.4-.4-.92-.59-1.43-.59-.52 0-1.04.2-1.43.59L10.3 9.45l-7.72 7.72c-.78.78-.78 2.05 0 2.83L4 21.41c.39.39.9.59 1.41.59.51 0 1.02-.2 1.41-.59l7.78-7.78 2.81-2.81c.8-.78.8-2.07 0-2.86zM5.41 20L4 18.59l7.72-7.72 1.47 1.35L5.41 20z\"/>\n",
       "  </svg>\n",
       "      </button>\n",
       "      \n",
       "  <style>\n",
       "    .colab-df-container {\n",
       "      display:flex;\n",
       "      flex-wrap:wrap;\n",
       "      gap: 12px;\n",
       "    }\n",
       "\n",
       "    .colab-df-convert {\n",
       "      background-color: #E8F0FE;\n",
       "      border: none;\n",
       "      border-radius: 50%;\n",
       "      cursor: pointer;\n",
       "      display: none;\n",
       "      fill: #1967D2;\n",
       "      height: 32px;\n",
       "      padding: 0 0 0 0;\n",
       "      width: 32px;\n",
       "    }\n",
       "\n",
       "    .colab-df-convert:hover {\n",
       "      background-color: #E2EBFA;\n",
       "      box-shadow: 0px 1px 2px rgba(60, 64, 67, 0.3), 0px 1px 3px 1px rgba(60, 64, 67, 0.15);\n",
       "      fill: #174EA6;\n",
       "    }\n",
       "\n",
       "    [theme=dark] .colab-df-convert {\n",
       "      background-color: #3B4455;\n",
       "      fill: #D2E3FC;\n",
       "    }\n",
       "\n",
       "    [theme=dark] .colab-df-convert:hover {\n",
       "      background-color: #434B5C;\n",
       "      box-shadow: 0px 1px 3px 1px rgba(0, 0, 0, 0.15);\n",
       "      filter: drop-shadow(0px 1px 2px rgba(0, 0, 0, 0.3));\n",
       "      fill: #FFFFFF;\n",
       "    }\n",
       "  </style>\n",
       "\n",
       "      <script>\n",
       "        const buttonEl =\n",
       "          document.querySelector('#df-1f8ca3e4-d220-4abb-8ccf-44c440890745 button.colab-df-convert');\n",
       "        buttonEl.style.display =\n",
       "          google.colab.kernel.accessAllowed ? 'block' : 'none';\n",
       "\n",
       "        async function convertToInteractive(key) {\n",
       "          const element = document.querySelector('#df-1f8ca3e4-d220-4abb-8ccf-44c440890745');\n",
       "          const dataTable =\n",
       "            await google.colab.kernel.invokeFunction('convertToInteractive',\n",
       "                                                     [key], {});\n",
       "          if (!dataTable) return;\n",
       "\n",
       "          const docLinkHtml = 'Like what you see? Visit the ' +\n",
       "            '<a target=\"_blank\" href=https://colab.research.google.com/notebooks/data_table.ipynb>data table notebook</a>'\n",
       "            + ' to learn more about interactive tables.';\n",
       "          element.innerHTML = '';\n",
       "          dataTable['output_type'] = 'display_data';\n",
       "          await google.colab.output.renderOutput(dataTable, element);\n",
       "          const docLink = document.createElement('div');\n",
       "          docLink.innerHTML = docLinkHtml;\n",
       "          element.appendChild(docLink);\n",
       "        }\n",
       "      </script>\n",
       "    </div>\n",
       "  </div>\n",
       "  "
      ],
      "text/plain": [
       "   yellowness  symmetry  target\n",
       "0    0.779427  0.257305     1.0\n",
       "1    0.777005  0.015915     1.0\n",
       "2    0.977092  0.304210     1.0\n",
       "3    0.043032  0.140899     0.0\n",
       "4    0.760433  0.193123     1.0"
      ]
     },
     "execution_count": 45,
     "metadata": {},
     "output_type": "execute_result"
    }
   ],
   "source": [
    "apples_pears_df = pd.read_csv(\"/content/drive/MyDrive/ML/apples_pears.csv\")\n",
    "apples_pears_df.head()"
   ]
  },
  {
   "cell_type": "code",
   "execution_count": 29,
   "metadata": {
    "executionInfo": {
     "elapsed": 6,
     "status": "ok",
     "timestamp": 1640326728576,
     "user": {
      "displayName": "Роман Решетников",
      "photoUrl": "https://lh3.googleusercontent.com/a/default-user=s64",
      "userId": "04257737993301595317"
     },
     "user_tz": -180
    },
    "id": "wvN04KCjp5sN"
   },
   "outputs": [],
   "source": [
    "X = apples_pears_df.iloc[:,:2].values \n",
    "y = apples_pears_df['target'].values.reshape((-1, 1))  "
   ]
  },
  {
   "cell_type": "code",
   "execution_count": 13,
   "metadata": {
    "colab": {
     "base_uri": "https://localhost:8080/",
     "height": 296
    },
    "executionInfo": {
     "elapsed": 712,
     "status": "ok",
     "timestamp": 1640325368046,
     "user": {
      "displayName": "Роман Решетников",
      "photoUrl": "https://lh3.googleusercontent.com/a/default-user=s64",
      "userId": "04257737993301595317"
     },
     "user_tz": -180
    },
    "id": "ZVtxAvXSqCKr",
    "outputId": "01a70e40-2d27-4ff9-cc4b-b53b28b7eabf"
   },
   "outputs": [
    {
     "data": {
      "image/png": "[encoded data removed]",
      "text/plain": [
       "<Figure size 432x288 with 1 Axes>"
      ]
     },
     "metadata": {
      "needs_background": "light"
     },
     "output_type": "display_data"
    }
   ],
   "source": [
    "neuron = Neuron()\n",
    "loss_values = neuron.fit(X, y, num_epochs=1000)\n",
    "\n",
    "plt.plot(loss_values)\n",
    "plt.title('Loss')\n",
    "plt.xlabel('n_iter')\n",
    "plt.ylabel('los_val')\n",
    "plt.show()"
   ]
  },
  {
   "cell_type": "code",
   "execution_count": 14,
   "metadata": {
    "colab": {
     "base_uri": "https://localhost:8080/"
    },
    "executionInfo": {
     "elapsed": 263,
     "status": "ok",
     "timestamp": 1640325375896,
     "user": {
      "displayName": "Роман Решетников",
      "photoUrl": "https://lh3.googleusercontent.com/a/default-user=s64",
      "userId": "04257737993301595317"
     },
     "user_tz": -180
    },
    "id": "5G9pbr4cs5fP",
    "outputId": "ced74619-4063-4ebc-a947-b52a66485333"
   },
   "outputs": [
    {
     "name": "stdout",
     "output_type": "stream",
     "text": [
      "best f1 score -  0.9923793395427604\n",
      "best threshold -  0.7000000000000002\n"
     ]
    }
   ],
   "source": [
    "best_threshold = 0.5\n",
    "best_score = float('-inf')\n",
    "for threshold in np.arange(0.1, 1, 0.05):\n",
    "  pred_y = (neuron.forward_pass(X) > threshold).flatten().astype(int)\n",
    "  cur_score =  f1_score(y, pred_y)\n",
    "  if cur_score > best_score:\n",
    "    best_threshold = threshold\n",
    "    best_score = cur_score\n",
    "\n",
    "print('best f1 score - ', best_score)\n",
    "print('best threshold - ', best_threshold)    "
   ]
  },
  {
   "cell_type": "code",
   "execution_count": 15,
   "metadata": {
    "colab": {
     "base_uri": "https://localhost:8080/",
     "height": 295
    },
    "executionInfo": {
     "elapsed": 1013,
     "status": "ok",
     "timestamp": 1640325380535,
     "user": {
      "displayName": "Роман Решетников",
      "photoUrl": "https://lh3.googleusercontent.com/a/default-user=s64",
      "userId": "04257737993301595317"
     },
     "user_tz": -180
    },
    "id": "RzQypOv_quIX",
    "outputId": "d1029ad3-936e-4160-a355-3eb06938c3d1"
   },
   "outputs": [
    {
     "data": {
      "image/png": "[encoded data removed]",
      "text/plain": [
       "<Figure size 432x288 with 1 Axes>"
      ]
     },
     "metadata": {
      "needs_background": "light"
     },
     "output_type": "display_data"
    }
   ],
   "source": [
    "plt.scatter(apples_pears_df.iloc[:, 0], apples_pears_df.iloc[:, 1], c=np.array(neuron.forward_pass(X) > best_threshold).flatten())\n",
    "plt.title('Apples_pears_df')\n",
    "plt.xlabel('symmetry')\n",
    "plt.ylabel('yellowness')\n",
    "plt.show()"
   ]
  },
  {
   "cell_type": "markdown",
   "metadata": {
    "id": "GeGXZm0JCY1F"
   },
   "source": [
    "**Voice**"
   ]
  },
  {
   "cell_type": "code",
   "execution_count": 39,
   "metadata": {
    "colab": {
     "base_uri": "https://localhost:8080/",
     "height": 256
    },
    "executionInfo": {
     "elapsed": 248,
     "status": "ok",
     "timestamp": 1640326856099,
     "user": {
      "displayName": "Роман Решетников",
      "photoUrl": "https://lh3.googleusercontent.com/a/default-user=s64",
      "userId": "04257737993301595317"
     },
     "user_tz": -180
    },
    "id": "KoJcVN07xdRl",
    "outputId": "4038d414-8a0f-4475-a5b4-dabf6e464947"
   },
   "outputs": [
    {
     "data": {
      "text/html": [
       "\n",
       "  <div id=\"df-a7d830d6-0d63-47f4-a203-7022e448ff30\">\n",
       "    <div class=\"colab-df-container\">\n",
       "      <div>\n",
       "<style scoped>\n",
       "    .dataframe tbody tr th:only-of-type {\n",
       "        vertical-align: middle;\n",
       "    }\n",
       "\n",
       "    .dataframe tbody tr th {\n",
       "        vertical-align: top;\n",
       "    }\n",
       "\n",
       "    .dataframe thead th {\n",
       "        text-align: right;\n",
       "    }\n",
       "</style>\n",
       "<table border=\"1\" class=\"dataframe\">\n",
       "  <thead>\n",
       "    <tr style=\"text-align: right;\">\n",
       "      <th></th>\n",
       "      <th>meanfreq</th>\n",
       "      <th>sd</th>\n",
       "      <th>median</th>\n",
       "      <th>Q25</th>\n",
       "      <th>Q75</th>\n",
       "      <th>IQR</th>\n",
       "      <th>skew</th>\n",
       "      <th>kurt</th>\n",
       "      <th>sp.ent</th>\n",
       "      <th>sfm</th>\n",
       "      <th>mode</th>\n",
       "      <th>centroid</th>\n",
       "      <th>meanfun</th>\n",
       "      <th>minfun</th>\n",
       "      <th>maxfun</th>\n",
       "      <th>meandom</th>\n",
       "      <th>mindom</th>\n",
       "      <th>maxdom</th>\n",
       "      <th>dfrange</th>\n",
       "      <th>modindx</th>\n",
       "      <th>label</th>\n",
       "    </tr>\n",
       "  </thead>\n",
       "  <tbody>\n",
       "    <tr>\n",
       "      <th>0</th>\n",
       "      <td>0.059781</td>\n",
       "      <td>0.064241</td>\n",
       "      <td>0.032027</td>\n",
       "      <td>0.015071</td>\n",
       "      <td>0.090193</td>\n",
       "      <td>0.075122</td>\n",
       "      <td>12.863462</td>\n",
       "      <td>274.402906</td>\n",
       "      <td>0.893369</td>\n",
       "      <td>0.491918</td>\n",
       "      <td>0.000000</td>\n",
       "      <td>0.059781</td>\n",
       "      <td>0.084279</td>\n",
       "      <td>0.015702</td>\n",
       "      <td>0.275862</td>\n",
       "      <td>0.007812</td>\n",
       "      <td>0.007812</td>\n",
       "      <td>0.007812</td>\n",
       "      <td>0.000000</td>\n",
       "      <td>0.000000</td>\n",
       "      <td>male</td>\n",
       "    </tr>\n",
       "    <tr>\n",
       "      <th>1</th>\n",
       "      <td>0.066009</td>\n",
       "      <td>0.067310</td>\n",
       "      <td>0.040229</td>\n",
       "      <td>0.019414</td>\n",
       "      <td>0.092666</td>\n",
       "      <td>0.073252</td>\n",
       "      <td>22.423285</td>\n",
       "      <td>634.613855</td>\n",
       "      <td>0.892193</td>\n",
       "      <td>0.513724</td>\n",
       "      <td>0.000000</td>\n",
       "      <td>0.066009</td>\n",
       "      <td>0.107937</td>\n",
       "      <td>0.015826</td>\n",
       "      <td>0.250000</td>\n",
       "      <td>0.009014</td>\n",
       "      <td>0.007812</td>\n",
       "      <td>0.054688</td>\n",
       "      <td>0.046875</td>\n",
       "      <td>0.052632</td>\n",
       "      <td>male</td>\n",
       "    </tr>\n",
       "    <tr>\n",
       "      <th>2</th>\n",
       "      <td>0.077316</td>\n",
       "      <td>0.083829</td>\n",
       "      <td>0.036718</td>\n",
       "      <td>0.008701</td>\n",
       "      <td>0.131908</td>\n",
       "      <td>0.123207</td>\n",
       "      <td>30.757155</td>\n",
       "      <td>1024.927705</td>\n",
       "      <td>0.846389</td>\n",
       "      <td>0.478905</td>\n",
       "      <td>0.000000</td>\n",
       "      <td>0.077316</td>\n",
       "      <td>0.098706</td>\n",
       "      <td>0.015656</td>\n",
       "      <td>0.271186</td>\n",
       "      <td>0.007990</td>\n",
       "      <td>0.007812</td>\n",
       "      <td>0.015625</td>\n",
       "      <td>0.007812</td>\n",
       "      <td>0.046512</td>\n",
       "      <td>male</td>\n",
       "    </tr>\n",
       "    <tr>\n",
       "      <th>3</th>\n",
       "      <td>0.151228</td>\n",
       "      <td>0.072111</td>\n",
       "      <td>0.158011</td>\n",
       "      <td>0.096582</td>\n",
       "      <td>0.207955</td>\n",
       "      <td>0.111374</td>\n",
       "      <td>1.232831</td>\n",
       "      <td>4.177296</td>\n",
       "      <td>0.963322</td>\n",
       "      <td>0.727232</td>\n",
       "      <td>0.083878</td>\n",
       "      <td>0.151228</td>\n",
       "      <td>0.088965</td>\n",
       "      <td>0.017798</td>\n",
       "      <td>0.250000</td>\n",
       "      <td>0.201497</td>\n",
       "      <td>0.007812</td>\n",
       "      <td>0.562500</td>\n",
       "      <td>0.554688</td>\n",
       "      <td>0.247119</td>\n",
       "      <td>male</td>\n",
       "    </tr>\n",
       "    <tr>\n",
       "      <th>4</th>\n",
       "      <td>0.135120</td>\n",
       "      <td>0.079146</td>\n",
       "      <td>0.124656</td>\n",
       "      <td>0.078720</td>\n",
       "      <td>0.206045</td>\n",
       "      <td>0.127325</td>\n",
       "      <td>1.101174</td>\n",
       "      <td>4.333713</td>\n",
       "      <td>0.971955</td>\n",
       "      <td>0.783568</td>\n",
       "      <td>0.104261</td>\n",
       "      <td>0.135120</td>\n",
       "      <td>0.106398</td>\n",
       "      <td>0.016931</td>\n",
       "      <td>0.266667</td>\n",
       "      <td>0.712812</td>\n",
       "      <td>0.007812</td>\n",
       "      <td>5.484375</td>\n",
       "      <td>5.476562</td>\n",
       "      <td>0.208274</td>\n",
       "      <td>male</td>\n",
       "    </tr>\n",
       "  </tbody>\n",
       "</table>\n",
       "</div>\n",
       "      <button class=\"colab-df-convert\" onclick=\"convertToInteractive('df-a7d830d6-0d63-47f4-a203-7022e448ff30')\"\n",
       "              title=\"Convert this dataframe to an interactive table.\"\n",
       "              style=\"display:none;\">\n",
       "        \n",
       "  <svg xmlns=\"http://www.w3.org/2000/svg\" height=\"24px\"viewBox=\"0 0 24 24\"\n",
       "       width=\"24px\">\n",
       "    <path d=\"M0 0h24v24H0V0z\" fill=\"none\"/>\n",
       "    <path d=\"M18.56 5.44l.94 2.06.94-2.06 2.06-.94-2.06-.94-.94-2.06-.94 2.06-2.06.94zm-11 1L8.5 8.5l.94-2.06 2.06-.94-2.06-.94L8.5 2.5l-.94 2.06-2.06.94zm10 10l.94 2.06.94-2.06 2.06-.94-2.06-.94-.94-2.06-.94 2.06-2.06.94z\"/><path d=\"M17.41 7.96l-1.37-1.37c-.4-.4-.92-.59-1.43-.59-.52 0-1.04.2-1.43.59L10.3 9.45l-7.72 7.72c-.78.78-.78 2.05 0 2.83L4 21.41c.39.39.9.59 1.41.59.51 0 1.02-.2 1.41-.59l7.78-7.78 2.81-2.81c.8-.78.8-2.07 0-2.86zM5.41 20L4 18.59l7.72-7.72 1.47 1.35L5.41 20z\"/>\n",
       "  </svg>\n",
       "      </button>\n",
       "      \n",
       "  <style>\n",
       "    .colab-df-container {\n",
       "      display:flex;\n",
       "      flex-wrap:wrap;\n",
       "      gap: 12px;\n",
       "    }\n",
       "\n",
       "    .colab-df-convert {\n",
       "      background-color: #E8F0FE;\n",
       "      border: none;\n",
       "      border-radius: 50%;\n",
       "      cursor: pointer;\n",
       "      display: none;\n",
       "      fill: #1967D2;\n",
       "      height: 32px;\n",
       "      padding: 0 0 0 0;\n",
       "      width: 32px;\n",
       "    }\n",
       "\n",
       "    .colab-df-convert:hover {\n",
       "      background-color: #E2EBFA;\n",
       "      box-shadow: 0px 1px 2px rgba(60, 64, 67, 0.3), 0px 1px 3px 1px rgba(60, 64, 67, 0.15);\n",
       "      fill: #174EA6;\n",
       "    }\n",
       "\n",
       "    [theme=dark] .colab-df-convert {\n",
       "      background-color: #3B4455;\n",
       "      fill: #D2E3FC;\n",
       "    }\n",
       "\n",
       "    [theme=dark] .colab-df-convert:hover {\n",
       "      background-color: #434B5C;\n",
       "      box-shadow: 0px 1px 3px 1px rgba(0, 0, 0, 0.15);\n",
       "      filter: drop-shadow(0px 1px 2px rgba(0, 0, 0, 0.3));\n",
       "      fill: #FFFFFF;\n",
       "    }\n",
       "  </style>\n",
       "\n",
       "      <script>\n",
       "        const buttonEl =\n",
       "          document.querySelector('#df-a7d830d6-0d63-47f4-a203-7022e448ff30 button.colab-df-convert');\n",
       "        buttonEl.style.display =\n",
       "          google.colab.kernel.accessAllowed ? 'block' : 'none';\n",
       "\n",
       "        async function convertToInteractive(key) {\n",
       "          const element = document.querySelector('#df-a7d830d6-0d63-47f4-a203-7022e448ff30');\n",
       "          const dataTable =\n",
       "            await google.colab.kernel.invokeFunction('convertToInteractive',\n",
       "                                                     [key], {});\n",
       "          if (!dataTable) return;\n",
       "\n",
       "          const docLinkHtml = 'Like what you see? Visit the ' +\n",
       "            '<a target=\"_blank\" href=https://colab.research.google.com/notebooks/data_table.ipynb>data table notebook</a>'\n",
       "            + ' to learn more about interactive tables.';\n",
       "          element.innerHTML = '';\n",
       "          dataTable['output_type'] = 'display_data';\n",
       "          await google.colab.output.renderOutput(dataTable, element);\n",
       "          const docLink = document.createElement('div');\n",
       "          docLink.innerHTML = docLinkHtml;\n",
       "          element.appendChild(docLink);\n",
       "        }\n",
       "      </script>\n",
       "    </div>\n",
       "  </div>\n",
       "  "
      ],
      "text/plain": [
       "   meanfreq        sd    median       Q25  ...    maxdom   dfrange   modindx  label\n",
       "0  0.059781  0.064241  0.032027  0.015071  ...  0.007812  0.000000  0.000000   male\n",
       "1  0.066009  0.067310  0.040229  0.019414  ...  0.054688  0.046875  0.052632   male\n",
       "2  0.077316  0.083829  0.036718  0.008701  ...  0.015625  0.007812  0.046512   male\n",
       "3  0.151228  0.072111  0.158011  0.096582  ...  0.562500  0.554688  0.247119   male\n",
       "4  0.135120  0.079146  0.124656  0.078720  ...  5.484375  5.476562  0.208274   male\n",
       "\n",
       "[5 rows x 21 columns]"
      ]
     },
     "execution_count": 39,
     "metadata": {},
     "output_type": "execute_result"
    }
   ],
   "source": [
    "voice_df = pd.read_csv(\"/content/drive/MyDrive/ML/voice.csv\")\n",
    "voice_df.head()"
   ]
  },
  {
   "cell_type": "code",
   "execution_count": 40,
   "metadata": {
    "executionInfo": {
     "elapsed": 227,
     "status": "ok",
     "timestamp": 1640326857741,
     "user": {
      "displayName": "Роман Решетников",
      "photoUrl": "https://lh3.googleusercontent.com/a/default-user=s64",
      "userId": "04257737993301595317"
     },
     "user_tz": -180
    },
    "id": "n8hMvrUhyZoA"
   },
   "outputs": [],
   "source": [
    "le = preprocessing.LabelEncoder()\n",
    "voice_df.label = le.fit_transform(voice_df.label)"
   ]
  },
  {
   "cell_type": "code",
   "execution_count": 41,
   "metadata": {
    "executionInfo": {
     "elapsed": 272,
     "status": "ok",
     "timestamp": 1640326880391,
     "user": {
      "displayName": "Роман Решетников",
      "photoUrl": "https://lh3.googleusercontent.com/a/default-user=s64",
      "userId": "04257737993301595317"
     },
     "user_tz": -180
    },
    "id": "uLm-xc3X0xmZ"
   },
   "outputs": [],
   "source": [
    "y = voice_df.label.values.reshape(-1, 1)\n",
    "X = voice_df.drop(['label'], axis=1)\n",
    "X_train, X_test, y_train, y_test = train_test_split(X, y, train_size = 0.7, random_state=0)"
   ]
  },
  {
   "cell_type": "code",
   "execution_count": 42,
   "metadata": {
    "executionInfo": {
     "elapsed": 241,
     "status": "ok",
     "timestamp": 1640326882359,
     "user": {
      "displayName": "Роман Решетников",
      "photoUrl": "https://lh3.googleusercontent.com/a/default-user=s64",
      "userId": "04257737993301595317"
     },
     "user_tz": -180
    },
    "id": "0FB6Q-Bn3F7s"
   },
   "outputs": [],
   "source": [
    "scaler = MinMaxScaler()\n",
    "\n",
    "X_train = scaler.fit_transform(X_train)\n",
    "X_test = scaler.transform(X_test)"
   ]
  },
  {
   "cell_type": "code",
   "execution_count": 44,
   "metadata": {
    "colab": {
     "base_uri": "https://localhost:8080/",
     "height": 296
    },
    "executionInfo": {
     "elapsed": 1805,
     "status": "ok",
     "timestamp": 1640326906848,
     "user": {
      "displayName": "Роман Решетников",
      "photoUrl": "https://lh3.googleusercontent.com/a/default-user=s64",
      "userId": "04257737993301595317"
     },
     "user_tz": -180
    },
    "id": "ioZO44xL3So6",
    "outputId": "b73bacb7-f489-42da-dae5-a12b2d46dd82"
   },
   "outputs": [
    {
     "data": {
      "image/png": "[encoded data removed]",
      "text/plain": [
       "<Figure size 432x288 with 1 Axes>"
      ]
     },
     "metadata": {
      "needs_background": "light"
     },
     "output_type": "display_data"
    }
   ],
   "source": [
    "neuron = Neuron()\n",
    "loss_values = neuron.fit(X_train, y_train, num_epochs=1000)\n",
    "\n",
    "plt.plot(loss_values)\n",
    "plt.title('Loss')\n",
    "plt.xlabel('n_iter')\n",
    "plt.ylabel('los_val')\n",
    "plt.show()"
   ]
  },
  {
   "cell_type": "code",
   "execution_count": 46,
   "metadata": {
    "colab": {
     "base_uri": "https://localhost:8080/"
    },
    "executionInfo": {
     "elapsed": 280,
     "status": "ok",
     "timestamp": 1640327180861,
     "user": {
      "displayName": "Роман Решетников",
      "photoUrl": "https://lh3.googleusercontent.com/a/default-user=s64",
      "userId": "04257737993301595317"
     },
     "user_tz": -180
    },
    "id": "-J3h5kN1GTMC",
    "outputId": "31573237-fad2-4579-c13f-e3c6c752e489"
   },
   "outputs": [
    {
     "name": "stdout",
     "output_type": "stream",
     "text": [
      "best f1 score -  0.9287804878048781\n",
      "best threshold -  0.5500000000000002\n"
     ]
    }
   ],
   "source": [
    "best_threshold = 0.5\n",
    "best_score = float('-inf')\n",
    "for threshold in np.arange(0.1, 1, 0.05):\n",
    "  pred_y = (neuron.forward_pass(X_test) > threshold).flatten().astype(int)\n",
    "  cur_score =  f1_score(y_test, pred_y)\n",
    "  if cur_score > best_score:\n",
    "    best_threshold = threshold\n",
    "    best_score = cur_score\n",
    "\n",
    "print('best f1 score - ', best_score)\n",
    "print('best threshold - ', best_threshold)  "
   ]
  }
 ],
 "metadata": {
  "colab": {
   "collapsed_sections": [],
   "name": "Решетников Роман М33051 \"test 6.1 neuron logloss.ipynb\"",
   "provenance": [
    {
     "file_id": "1qL4ubDKKKpAMt7n5t_rhCe5smNR286J7",
     "timestamp": 1638944458887
    },
    {
     "file_id": "1dbscLjEvhFG3fGIpIE1c2XqV5NmrOfv9",
     "timestamp": 1606206669852
    }
   ]
  },
  "kernelspec": {
   "display_name": "Python 3",
   "language": "python",
   "name": "python3"
  },
  "language_info": {
   "codemirror_mode": {
    "name": "ipython",
    "version": 3
   },
   "file_extension": ".py",
   "mimetype": "text/x-python",
   "name": "python",
   "nbconvert_exporter": "python",
   "pygments_lexer": "ipython3",
   "version": "3.8.8"
  }
 },
 "nbformat": 4,
 "nbformat_minor": 4
}
