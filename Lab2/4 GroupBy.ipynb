{
 "cells": [
  {
   "cell_type": "markdown",
   "metadata": {
    "heading_collapsed": true,
    "id": "KfVvUVj4CozY"
   },
   "source": [
    "### Библиотеки / данные"
   ]
  },
  {
   "cell_type": "markdown",
   "metadata": {
    "hidden": true,
    "id": "FxgJ7O_FCozc"
   },
   "source": [
    "импортируем библиотеки numpy и pandas"
   ]
  },
  {
   "cell_type": "code",
   "execution_count": null,
   "metadata": {
    "hidden": true,
    "id": "0l0W7CH0Cozg"
   },
   "outputs": [],
   "source": [
    "import numpy as np\n",
    "import pandas as pd"
   ]
  },
  {
   "cell_type": "markdown",
   "metadata": {
    "hidden": true,
    "id": "S7rW3FoDCoz5"
   },
   "source": [
    "загружаем данные"
   ]
  },
  {
   "cell_type": "code",
   "execution_count": null,
   "metadata": {
    "hidden": true,
    "id": "aUDGac4xCoz9"
   },
   "outputs": [],
   "source": [
    "tips = pd.read_csv(filepath_or_buffer = \"tips.csv\")\n",
    "tips.head()"
   ]
  },
  {
   "cell_type": "code",
   "execution_count": null,
   "metadata": {
    "hidden": true,
    "id": "VmEhW3TiCo0G"
   },
   "outputs": [],
   "source": [
    "tips['tip_pct'] = tips['tip'] / tips['total_bill']"
   ]
  },
  {
   "cell_type": "code",
   "execution_count": null,
   "metadata": {
    "hidden": true,
    "id": "K3HQOlPOCo0V"
   },
   "outputs": [],
   "source": [
    "tips.head()"
   ]
  },
  {
   "cell_type": "markdown",
   "metadata": {
    "heading_collapsed": true,
    "id": "VNypaVGfCo0c"
   },
   "source": [
    "### Механизм GroupBy"
   ]
  },
  {
   "cell_type": "code",
   "execution_count": null,
   "metadata": {
    "hidden": true,
    "id": "I_PnE9QiCo0i"
   },
   "outputs": [],
   "source": [
    "df = pd.DataFrame({'x': ['a','a','b','b','c','c'],\n",
    "                   'y': [2,4,0,5,5,10]})\n",
    "df"
   ]
  },
  {
   "cell_type": "code",
   "execution_count": null,
   "metadata": {
    "hidden": true,
    "id": "_eR_gKVbCo0v"
   },
   "outputs": [],
   "source": [
    "groups = df.groupby(['x'])\n",
    "groups"
   ]
  },
  {
   "cell_type": "markdown",
   "metadata": {
    "hidden": true,
    "id": "aoSGs_7nCo02"
   },
   "source": [
    "получаем информацию о количестве групп, которые будут созданы"
   ]
  },
  {
   "cell_type": "code",
   "execution_count": null,
   "metadata": {
    "hidden": true,
    "id": "zG_zgukcCo03"
   },
   "outputs": [],
   "source": [
    "groups.ngroups"
   ]
  },
  {
   "cell_type": "markdown",
   "metadata": {
    "hidden": true,
    "id": "9hlxwwMJCo0-"
   },
   "source": [
    "получаем информацию о количестве элементов в каждой группе"
   ]
  },
  {
   "cell_type": "code",
   "execution_count": null,
   "metadata": {
    "hidden": true,
    "id": "6P6e2g5KCo1C"
   },
   "outputs": [],
   "source": [
    "groups.size()"
   ]
  },
  {
   "cell_type": "markdown",
   "metadata": {
    "hidden": true,
    "id": "IJ-2AsFOCo3z"
   },
   "source": [
    "что представляют из себя найденные группы?"
   ]
  },
  {
   "cell_type": "code",
   "execution_count": null,
   "metadata": {
    "hidden": true,
    "id": "wjHQm2WaCo30"
   },
   "outputs": [],
   "source": [
    "groups.groups"
   ]
  },
  {
   "cell_type": "markdown",
   "metadata": {
    "hidden": true,
    "id": "2DWa6x-6Co3_"
   },
   "source": [
    "получаем данные конкретной группы"
   ]
  },
  {
   "cell_type": "code",
   "execution_count": null,
   "metadata": {
    "hidden": true,
    "id": "imf6x32YCo4E"
   },
   "outputs": [],
   "source": [
    "groups.get_group('b')"
   ]
  },
  {
   "cell_type": "markdown",
   "metadata": {
    "hidden": true,
    "id": "SucGUTUpCo4T"
   },
   "source": [
    "извлекаем первую строку каждой группы"
   ]
  },
  {
   "cell_type": "code",
   "execution_count": null,
   "metadata": {
    "hidden": true,
    "id": "xnOczChkCo4W"
   },
   "outputs": [],
   "source": [
    "groups.nth([1])"
   ]
  },
  {
   "cell_type": "markdown",
   "metadata": {
    "hidden": true,
    "id": "XzTbRpPOCo4g"
   },
   "source": [
    "обход групп:"
   ]
  },
  {
   "cell_type": "code",
   "execution_count": null,
   "metadata": {
    "hidden": true,
    "id": "11ipcc2VCo4h"
   },
   "outputs": [],
   "source": [
    "for key, group in groups:\n",
    "    print(key)\n",
    "    print(group) "
   ]
  },
  {
   "cell_type": "markdown",
   "metadata": {
    "hidden": true,
    "id": "Lum11BIICo51"
   },
   "source": [
    "вычисление среднего"
   ]
  },
  {
   "cell_type": "code",
   "execution_count": null,
   "metadata": {
    "hidden": true,
    "id": "c4FLhlGmCo6N"
   },
   "outputs": [],
   "source": [
    "groups.y.mean()"
   ]
  },
  {
   "cell_type": "markdown",
   "metadata": {
    "heading_collapsed": true,
    "id": "_yIc30LLCo6W"
   },
   "source": [
    "### Типы группировок"
   ]
  },
  {
   "cell_type": "markdown",
   "metadata": {
    "heading_collapsed": true,
    "hidden": true,
    "id": "pilop7DnCo6X"
   },
   "source": [
    "#### по столбцам: "
   ]
  },
  {
   "cell_type": "code",
   "execution_count": null,
   "metadata": {
    "hidden": true,
    "id": "Km4DM8c9Co6Y"
   },
   "outputs": [],
   "source": [
    "tips.head()"
   ]
  },
  {
   "cell_type": "code",
   "execution_count": null,
   "metadata": {
    "hidden": true,
    "id": "j-EvTTUJCo6j",
    "scrolled": true
   },
   "outputs": [],
   "source": [
    "tips.groupby(['day','time']).tip.mean().unstack()"
   ]
  },
  {
   "cell_type": "markdown",
   "metadata": {
    "heading_collapsed": true,
    "hidden": true,
    "id": "Ba1NnXhXCo6q"
   },
   "source": [
    "#### по уровням индекса"
   ]
  },
  {
   "cell_type": "markdown",
   "metadata": {
    "hidden": true,
    "id": "YIOR8eJ4Co6v"
   },
   "source": [
    "создаем копию данных и заново индексируем ее"
   ]
  },
  {
   "cell_type": "code",
   "execution_count": null,
   "metadata": {
    "hidden": true,
    "id": "uM63E-qSCo6x"
   },
   "outputs": [],
   "source": [
    "copy_tips = tips.copy()\n",
    "copy_tips = copy_tips.set_index(['day', 'time'])\n",
    "copy_tips"
   ]
  },
  {
   "cell_type": "markdown",
   "metadata": {
    "hidden": true,
    "id": "tkMofWgMCo68"
   },
   "source": [
    "группировать можем по одному или нескольким уровням индекса, передавая соответствующие значения столбцов аргументу level"
   ]
  },
  {
   "cell_type": "code",
   "execution_count": null,
   "metadata": {
    "hidden": true,
    "id": "5OlJHZm1Co6-"
   },
   "outputs": [],
   "source": [
    "copy_tips.groupby(level=['time']).sum()"
   ]
  },
  {
   "cell_type": "code",
   "execution_count": null,
   "metadata": {
    "hidden": true,
    "id": "u9sIyGXFCo7K"
   },
   "outputs": [],
   "source": [
    "copy_tips.groupby(level = ['day', 'time']).mean()"
   ]
  },
  {
   "cell_type": "markdown",
   "metadata": {
    "heading_collapsed": true,
    "hidden": true,
    "id": "iFYNHnOdCo7R"
   },
   "source": [
    "#### с использованием функции "
   ]
  },
  {
   "cell_type": "code",
   "execution_count": null,
   "metadata": {
    "hidden": true,
    "id": "WyYCgDtzCo7S"
   },
   "outputs": [],
   "source": [
    "copy_tips.head()"
   ]
  },
  {
   "cell_type": "code",
   "execution_count": null,
   "metadata": {
    "hidden": true,
    "id": "fBF0HRD0Co7Y"
   },
   "outputs": [],
   "source": [
    "copy_tips.groupby(len, level='day').count()"
   ]
  },
  {
   "cell_type": "code",
   "execution_count": null,
   "metadata": {
    "hidden": true,
    "id": "J0W1LdVdCo8G"
   },
   "outputs": [],
   "source": [
    "tips.day.value_counts()"
   ]
  },
  {
   "cell_type": "markdown",
   "metadata": {
    "heading_collapsed": true,
    "hidden": true,
    "id": "jf82ME1KCo8V"
   },
   "source": [
    "#### с использованием массива "
   ]
  },
  {
   "cell_type": "markdown",
   "metadata": {
    "hidden": true,
    "id": "cho_wbxsCo8W"
   },
   "source": [
    "массив случайных меток групп:"
   ]
  },
  {
   "cell_type": "code",
   "execution_count": null,
   "metadata": {
    "hidden": true,
    "id": "-jCcyPH7Co8b"
   },
   "outputs": [],
   "source": [
    "np.random.seed(123)\n",
    "rnd_array = np.random.choice(['first_group', 'second_group'], \n",
    "                             size=tips.shape[0],\n",
    "                             p = [0.4, 0.6])\n",
    "rnd_array[0:5]"
   ]
  },
  {
   "cell_type": "markdown",
   "metadata": {
    "hidden": true,
    "id": "7Vd-6Z5hCo8i"
   },
   "source": [
    "передаем массив меток групп в метод groupby"
   ]
  },
  {
   "cell_type": "code",
   "execution_count": null,
   "metadata": {
    "hidden": true,
    "id": "9XeVXm48Co8n"
   },
   "outputs": [],
   "source": [
    "tips.groupby(rnd_array).count()"
   ]
  },
  {
   "cell_type": "code",
   "execution_count": null,
   "metadata": {
    "hidden": true,
    "id": "HPYqCyMfCo8t"
   },
   "outputs": [],
   "source": [
    "93/(93+151)"
   ]
  },
  {
   "cell_type": "markdown",
   "metadata": {
    "heading_collapsed": true,
    "hidden": true,
    "id": "5qXj1XvKCo85"
   },
   "source": [
    "#### бонус"
   ]
  },
  {
   "cell_type": "markdown",
   "metadata": {
    "hidden": true,
    "id": "-G1BdS30Co9A"
   },
   "source": [
    "тип данных:"
   ]
  },
  {
   "cell_type": "code",
   "execution_count": null,
   "metadata": {
    "hidden": true,
    "id": "sMkLNFd-Co9B"
   },
   "outputs": [],
   "source": [
    "tips.dtypes"
   ]
  },
  {
   "cell_type": "code",
   "execution_count": null,
   "metadata": {
    "hidden": true,
    "id": "GJcB3Y-dCo9X"
   },
   "outputs": [],
   "source": [
    "group_tips = tips.groupby(tips.dtypes, axis=1)"
   ]
  },
  {
   "cell_type": "code",
   "execution_count": null,
   "metadata": {
    "hidden": true,
    "id": "QXPtGcTBCo9i"
   },
   "outputs": [],
   "source": [
    "group_tips.size()"
   ]
  },
  {
   "cell_type": "markdown",
   "metadata": {
    "heading_collapsed": true,
    "id": "HR9BYbvnCo9q"
   },
   "source": [
    "### Агрегирование групп"
   ]
  },
  {
   "cell_type": "markdown",
   "metadata": {
    "hidden": true,
    "id": "rusdOHm2Co9r"
   },
   "source": [
    "создаем объект groupby:"
   ]
  },
  {
   "cell_type": "code",
   "execution_count": null,
   "metadata": {
    "hidden": true,
    "id": "GpBg3bbDCo9s"
   },
   "outputs": [],
   "source": [
    "group_tips = tips.groupby(['day', 'smoker'])['tip_pct']"
   ]
  },
  {
   "cell_type": "markdown",
   "metadata": {
    "hidden": true,
    "id": "UJZ3bvYPCo_K"
   },
   "source": [
    "проверка эквивалентности методов:"
   ]
  },
  {
   "cell_type": "code",
   "execution_count": null,
   "metadata": {
    "hidden": true,
    "id": "Z1HMruc6Co_M"
   },
   "outputs": [],
   "source": [
    "group_tips.agg == group_tips.aggregate"
   ]
  },
  {
   "cell_type": "markdown",
   "metadata": {
    "hidden": true,
    "id": "aNwaR78-Co_W"
   },
   "source": [
    "собственная функция:"
   ]
  },
  {
   "cell_type": "code",
   "execution_count": null,
   "metadata": {
    "hidden": true,
    "id": "RHPLRKT-Co_X"
   },
   "outputs": [],
   "source": [
    "def peak_to_peak(arr):\n",
    "    return arr.max() - arr.min()\n",
    "\n",
    "group_tips.agg([peak_to_peak])"
   ]
  },
  {
   "cell_type": "markdown",
   "metadata": {
    "hidden": true,
    "id": "xl3wpKoHCo_g"
   },
   "source": [
    "комбинирование:"
   ]
  },
  {
   "cell_type": "code",
   "execution_count": null,
   "metadata": {
    "hidden": true,
    "id": "TvqbRUmXCo_h"
   },
   "outputs": [],
   "source": [
    "group_tips.agg([peak_to_peak, 'mean'])"
   ]
  },
  {
   "cell_type": "markdown",
   "metadata": {
    "hidden": true,
    "id": "M7al7gHYCo_m"
   },
   "source": [
    "задаем имена столбцов:"
   ]
  },
  {
   "cell_type": "code",
   "execution_count": null,
   "metadata": {
    "hidden": true,
    "id": "Xryst3gDCo_n"
   },
   "outputs": [],
   "source": [
    "group_tips.agg([('delta_max_min', peak_to_peak), ('mean_value','mean')])"
   ]
  },
  {
   "cell_type": "markdown",
   "metadata": {
    "hidden": true,
    "id": "7cKi7Q31Co_y"
   },
   "source": [
    "отдельные наборы функций для каждого столбца:"
   ]
  },
  {
   "cell_type": "code",
   "execution_count": null,
   "metadata": {
    "hidden": true,
    "id": "hIoi4K8vCo_y"
   },
   "outputs": [],
   "source": [
    "group_tips = tips.groupby(['day', 'smoker'])['tip_pct', 'total_bill']"
   ]
  },
  {
   "cell_type": "code",
   "execution_count": null,
   "metadata": {
    "hidden": true,
    "id": "-30iK3zqCo_5"
   },
   "outputs": [],
   "source": [
    "group_tips.agg({'tip_pct':[('max_value', np.max),\n",
    "                           ('min_value','min')],\n",
    "                'total_bill': 'sum'})"
   ]
  },
  {
   "cell_type": "markdown",
   "metadata": {
    "heading_collapsed": true,
    "id": "TUorQ9vPCpAP"
   },
   "source": [
    "### Преобразование групп"
   ]
  },
  {
   "cell_type": "markdown",
   "metadata": {
    "heading_collapsed": true,
    "hidden": true,
    "id": "KgoRO9BBCpAQ"
   },
   "source": [
    "#### метод transform"
   ]
  },
  {
   "cell_type": "markdown",
   "metadata": {
    "hidden": true,
    "id": "YAbc8DTKCpAR"
   },
   "source": [
    "<img src = '../images/transform.png' style='width: 900px;'/>"
   ]
  },
  {
   "cell_type": "code",
   "execution_count": null,
   "metadata": {
    "hidden": true,
    "id": "AFOs4TM4CpAS"
   },
   "outputs": [],
   "source": [
    "df = pd.DataFrame({'Col1': ['A', 'B', 'C', 'C', 'B', 'B', 'A'],\n",
    "                   'Col2': [1, 2, 3, 4, 2, 5, 3]})\n",
    "df"
   ]
  },
  {
   "cell_type": "code",
   "execution_count": null,
   "metadata": {
    "hidden": true,
    "id": "REtcLfzcCpAX"
   },
   "outputs": [],
   "source": [
    "df['Col3'] = df.groupby('Col1').transform(sum)\n",
    "df.sort_values('Col1')"
   ]
  },
  {
   "cell_type": "markdown",
   "metadata": {
    "hidden": true,
    "id": "ZdLmk48HCpAx"
   },
   "source": [
    "объект groupby:"
   ]
  },
  {
   "cell_type": "code",
   "execution_count": null,
   "metadata": {
    "hidden": true,
    "id": "SEixnUGrCpA1"
   },
   "outputs": [],
   "source": [
    "group_tips = tips.groupby(['smoker'])['total_bill']"
   ]
  },
  {
   "cell_type": "markdown",
   "metadata": {
    "hidden": true,
    "id": "9FXyGCBcCpA7"
   },
   "source": [
    "нормирование:"
   ]
  },
  {
   "cell_type": "code",
   "execution_count": null,
   "metadata": {
    "hidden": true,
    "id": "cbbT3P0hCpBH"
   },
   "outputs": [],
   "source": [
    "norm = lambda x: (x - x.mean())/x.std()\n",
    "group_tips.transform(norm)"
   ]
  },
  {
   "cell_type": "code",
   "execution_count": null,
   "metadata": {
    "hidden": true,
    "id": "OGyQczupCpBS"
   },
   "outputs": [],
   "source": [
    "tips_copy = tips.copy()\n",
    "tips_copy['total_bill_norm'] = group_tips.transform(norm)\n",
    "tips_copy.head()"
   ]
  },
  {
   "cell_type": "code",
   "execution_count": null,
   "metadata": {
    "hidden": true,
    "id": "bxkswabeCpBZ"
   },
   "outputs": [],
   "source": [
    "tips_copy.groupby('smoker').total_bill_norm.agg(['mean', 'std'])"
   ]
  },
  {
   "cell_type": "markdown",
   "metadata": {
    "heading_collapsed": true,
    "hidden": true,
    "id": "oeD3HCbfCpBp"
   },
   "source": [
    "#### метод apply"
   ]
  },
  {
   "cell_type": "markdown",
   "metadata": {
    "hidden": true,
    "id": "GpHYBNjFCpBq"
   },
   "source": [
    "функция:"
   ]
  },
  {
   "cell_type": "code",
   "execution_count": null,
   "metadata": {
    "hidden": true,
    "id": "qAQGrMHSCpBr"
   },
   "outputs": [],
   "source": [
    "def top(df, n=5, column='tip_pct'):\n",
    "    return df.sort_values(by=column)[-n:]\n",
    "top(tips, n=6)"
   ]
  },
  {
   "cell_type": "markdown",
   "metadata": {
    "hidden": true,
    "id": "05aOYyzRCpB8"
   },
   "source": [
    "применяем метод apply"
   ]
  },
  {
   "cell_type": "code",
   "execution_count": null,
   "metadata": {
    "hidden": true,
    "id": "fsF2DPpuCpB_"
   },
   "outputs": [],
   "source": [
    "tips.groupby('smoker').apply(top)"
   ]
  },
  {
   "cell_type": "markdown",
   "metadata": {
    "heading_collapsed": true,
    "id": "kL6dYqH4CpCC"
   },
   "source": [
    "### Исключение групп"
   ]
  },
  {
   "cell_type": "markdown",
   "metadata": {
    "hidden": true,
    "id": "EeSsNHukCpCD"
   },
   "source": [
    "создаем данные для наших примеров"
   ]
  },
  {
   "cell_type": "code",
   "execution_count": null,
   "metadata": {
    "hidden": true,
    "id": "CJqLqPkZCpCD"
   },
   "outputs": [],
   "source": [
    "df = pd.DataFrame({'Label': list('AABCCC'),\n",
    "                   'Values': [1, 2, 3, 4, np.nan, 8]})\n",
    "df"
   ]
  },
  {
   "cell_type": "markdown",
   "metadata": {
    "hidden": true,
    "id": "OZ7vInIlCpCG"
   },
   "source": [
    "удаляем группы с менее чем двумя возможными значениеми"
   ]
  },
  {
   "cell_type": "code",
   "execution_count": null,
   "metadata": {
    "hidden": true,
    "id": "uNsdJvPZCpCH"
   },
   "outputs": [],
   "source": [
    "f = lambda x: x.Values.count() > 1\n",
    "df.groupby('Label').filter(f)"
   ]
  },
  {
   "cell_type": "markdown",
   "metadata": {
    "hidden": true,
    "id": "-PDFzvGHCpCP"
   },
   "source": [
    "удаляем группы, в которых есть пропуски"
   ]
  },
  {
   "cell_type": "code",
   "execution_count": null,
   "metadata": {
    "hidden": true,
    "id": "7To4HP7vCpCS"
   },
   "outputs": [],
   "source": [
    "f = lambda x: x.Values.isnull().sum() == 0\n",
    "df.groupby('Label').filter(f)"
   ]
  },
  {
   "cell_type": "markdown",
   "metadata": {
    "heading_collapsed": true,
    "id": "MoeD40SmCpC4"
   },
   "source": [
    "### Сводная таблица"
   ]
  },
  {
   "cell_type": "markdown",
   "metadata": {
    "hidden": true,
    "id": "DCPTqrxkCpC5"
   },
   "source": [
    "средние"
   ]
  },
  {
   "cell_type": "code",
   "execution_count": null,
   "metadata": {
    "hidden": true,
    "id": "kxmHeBvxCpC5"
   },
   "outputs": [],
   "source": [
    "tips.pivot_table(index=['day', 'smoker'])"
   ]
  },
  {
   "cell_type": "markdown",
   "metadata": {
    "hidden": true,
    "id": "FIfRZ3yXCpC9"
   },
   "source": [
    "вывод по строкам и столбцам"
   ]
  },
  {
   "cell_type": "code",
   "execution_count": null,
   "metadata": {
    "hidden": true,
    "id": "tnL2DDkPCpC-"
   },
   "outputs": [],
   "source": [
    "tips.pivot_table(['tip_pct', 'size'], index=['time', 'day'],\n",
    "                 columns='smoker')"
   ]
  },
  {
   "cell_type": "markdown",
   "metadata": {
    "hidden": true,
    "id": "lCUzbJuZCpDC"
   },
   "source": [
    "включение частичных итогов:"
   ]
  },
  {
   "cell_type": "code",
   "execution_count": null,
   "metadata": {
    "hidden": true,
    "id": "3umvxNwBCpDD"
   },
   "outputs": [],
   "source": [
    "tips.pivot_table(['tip_pct', 'size'], index=['time', 'day'],\n",
    "                 columns='smoker', margins=True)"
   ]
  },
  {
   "cell_type": "markdown",
   "metadata": {
    "hidden": true,
    "id": "fgTePlwUCpDH"
   },
   "source": [
    "задаем функцию:"
   ]
  },
  {
   "cell_type": "code",
   "execution_count": null,
   "metadata": {
    "hidden": true,
    "id": "D-ln8AexCpDI"
   },
   "outputs": [],
   "source": [
    "tips.pivot_table('tip_pct', index=['time', 'smoker'], columns='day',\n",
    "                 aggfunc=max, margins=True)"
   ]
  }
 ],
 "metadata": {
  "colab": {
   "name": "4 GroupBy.ipynb",
   "provenance": []
  },
  "hide_input": false,
  "kernelspec": {
   "display_name": "Python 3",
   "language": "python",
   "name": "python3"
  },
  "language_info": {
   "codemirror_mode": {
    "name": "ipython",
    "version": 3
   },
   "file_extension": ".py",
   "mimetype": "text/x-python",
   "name": "python",
   "nbconvert_exporter": "python",
   "pygments_lexer": "ipython3",
   "version": "3.8.8"
  },
  "toc": {
   "base_numbering": 1,
   "nav_menu": {},
   "number_sections": true,
   "sideBar": true,
   "skip_h1_title": false,
   "title_cell": "Table of Contents",
   "title_sidebar": "Contents",
   "toc_cell": false,
   "toc_position": {},
   "toc_section_display": true,
   "toc_window_display": true
  }
 },
 "nbformat": 4,
 "nbformat_minor": 4
}
